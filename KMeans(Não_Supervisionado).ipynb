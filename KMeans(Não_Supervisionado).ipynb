{
  "nbformat": 4,
  "nbformat_minor": 0,
  "metadata": {
    "colab": {
      "name": "KMeans(Não-Supervisionado).ipynb",
      "provenance": [],
      "include_colab_link": true
    },
    "kernelspec": {
      "name": "python3",
      "display_name": "Python 3"
    }
  },
  "cells": [
    {
      "cell_type": "markdown",
      "metadata": {
        "id": "view-in-github",
        "colab_type": "text"
      },
      "source": [
        "<a href=\"https://colab.research.google.com/github/DWA-GIT/TESI-UNIFACISA/blob/master/KMeans(N%C3%A3o_Supervisionado).ipynb\" target=\"_parent\"><img src=\"https://colab.research.google.com/assets/colab-badge.svg\" alt=\"Open In Colab\"/></a>"
      ]
    },
    {
      "cell_type": "markdown",
      "metadata": {
        "id": "Euk_RjiGHGlo",
        "colab_type": "text"
      },
      "source": [
        "Instalando o seaborn\n"
      ]
    },
    {
      "cell_type": "code",
      "metadata": {
        "id": "mXfpDwRMG1DQ",
        "colab_type": "code",
        "colab": {}
      },
      "source": [
        "!pip install seaborn==0.9.0"
      ],
      "execution_count": 0,
      "outputs": []
    },
    {
      "cell_type": "markdown",
      "metadata": {
        "id": "b7AMTJ2-HWca",
        "colab_type": "text"
      },
      "source": [
        "Importações"
      ]
    },
    {
      "cell_type": "code",
      "metadata": {
        "id": "wXyA6zN8HXf5",
        "colab_type": "code",
        "colab": {}
      },
      "source": [
        "import pandas as pd"
      ],
      "execution_count": 0,
      "outputs": []
    },
    {
      "cell_type": "code",
      "metadata": {
        "id": "b5nAbFISHasO",
        "colab_type": "code",
        "colab": {
          "base_uri": "https://localhost:8080/",
          "height": 221
        },
        "outputId": "3d87dde0-2f5b-4049-f720-c79b071be47f"
      },
      "source": [
        "uri_filmes = 'https://raw.githubusercontent.com/DWA-GIT/TESI-UNIFACISA/master/movies_novo.csv'\n",
        "filmes = pd.read_csv(uri_filmes)\n",
        "filmes.head()"
      ],
      "execution_count": 3,
      "outputs": [
        {
          "output_type": "execute_result",
          "data": {
            "text/html": [
              "<div>\n",
              "<style scoped>\n",
              "    .dataframe tbody tr th:only-of-type {\n",
              "        vertical-align: middle;\n",
              "    }\n",
              "\n",
              "    .dataframe tbody tr th {\n",
              "        vertical-align: top;\n",
              "    }\n",
              "\n",
              "    .dataframe thead th {\n",
              "        text-align: right;\n",
              "    }\n",
              "</style>\n",
              "<table border=\"1\" class=\"dataframe\">\n",
              "  <thead>\n",
              "    <tr style=\"text-align: right;\">\n",
              "      <th></th>\n",
              "      <th>movieId</th>\n",
              "      <th>title</th>\n",
              "      <th>genres</th>\n",
              "    </tr>\n",
              "  </thead>\n",
              "  <tbody>\n",
              "    <tr>\n",
              "      <th>0</th>\n",
              "      <td>1</td>\n",
              "      <td>Toy Story (1995)</td>\n",
              "      <td>Adventure|Animation|Children|Comedy|Fantasy</td>\n",
              "    </tr>\n",
              "    <tr>\n",
              "      <th>1</th>\n",
              "      <td>2</td>\n",
              "      <td>Jumanji (1995)</td>\n",
              "      <td>Adventure|Children|Fantasy</td>\n",
              "    </tr>\n",
              "    <tr>\n",
              "      <th>2</th>\n",
              "      <td>3</td>\n",
              "      <td>Grumpier Old Men (1995)</td>\n",
              "      <td>Comedy|Romance</td>\n",
              "    </tr>\n",
              "    <tr>\n",
              "      <th>3</th>\n",
              "      <td>4</td>\n",
              "      <td>Waiting to Exhale (1995)</td>\n",
              "      <td>Comedy|Drama|Romance</td>\n",
              "    </tr>\n",
              "    <tr>\n",
              "      <th>4</th>\n",
              "      <td>5</td>\n",
              "      <td>Father of the Bride Part II (1995)</td>\n",
              "      <td>Comedy</td>\n",
              "    </tr>\n",
              "  </tbody>\n",
              "</table>\n",
              "</div>"
            ],
            "text/plain": [
              "   movieId  ...                                       genres\n",
              "0        1  ...  Adventure|Animation|Children|Comedy|Fantasy\n",
              "1        2  ...                   Adventure|Children|Fantasy\n",
              "2        3  ...                               Comedy|Romance\n",
              "3        4  ...                         Comedy|Drama|Romance\n",
              "4        5  ...                                       Comedy\n",
              "\n",
              "[5 rows x 3 columns]"
            ]
          },
          "metadata": {
            "tags": []
          },
          "execution_count": 3
        }
      ]
    },
    {
      "cell_type": "code",
      "metadata": {
        "id": "86bCscOmIela",
        "colab_type": "code",
        "colab": {
          "base_uri": "https://localhost:8080/",
          "height": 34
        },
        "outputId": "63ade8a6-2d73-450b-c381-0b038e9d936d"
      },
      "source": [
        "filmes.shape"
      ],
      "execution_count": 4,
      "outputs": [
        {
          "output_type": "execute_result",
          "data": {
            "text/plain": [
              "(9742, 3)"
            ]
          },
          "metadata": {
            "tags": []
          },
          "execution_count": 4
        }
      ]
    },
    {
      "cell_type": "code",
      "metadata": {
        "id": "ZA-D9BpcIr2X",
        "colab_type": "code",
        "colab": {}
      },
      "source": [
        "filmes.columns = ['filme_id', 'titulo', 'genero']\n",
        "filmes.head()"
      ],
      "execution_count": 0,
      "outputs": []
    },
    {
      "cell_type": "code",
      "metadata": {
        "id": "w4Uba2nwJDeZ",
        "colab_type": "code",
        "colab": {
          "base_uri": "https://localhost:8080/",
          "height": 615
        },
        "outputId": "2d8ea304-dc0d-4082-cb4f-f78473b70165"
      },
      "source": [
        "generos = filmes.genero.str.get_dummies()\n",
        "dados_dos_filmes = pd.concat([filmes, generos], axis=1)\n",
        "dados_dos_filmes.tail()\n"
      ],
      "execution_count": 8,
      "outputs": [
        {
          "output_type": "execute_result",
          "data": {
            "text/html": [
              "<div>\n",
              "<style scoped>\n",
              "    .dataframe tbody tr th:only-of-type {\n",
              "        vertical-align: middle;\n",
              "    }\n",
              "\n",
              "    .dataframe tbody tr th {\n",
              "        vertical-align: top;\n",
              "    }\n",
              "\n",
              "    .dataframe thead th {\n",
              "        text-align: right;\n",
              "    }\n",
              "</style>\n",
              "<table border=\"1\" class=\"dataframe\">\n",
              "  <thead>\n",
              "    <tr style=\"text-align: right;\">\n",
              "      <th></th>\n",
              "      <th>filme_id</th>\n",
              "      <th>titulo</th>\n",
              "      <th>genero</th>\n",
              "      <th>(no genres listed)</th>\n",
              "      <th>Action</th>\n",
              "      <th>Adventure</th>\n",
              "      <th>Animation</th>\n",
              "      <th>Children</th>\n",
              "      <th>Comedy</th>\n",
              "      <th>Crime</th>\n",
              "      <th>Documentary</th>\n",
              "      <th>Drama</th>\n",
              "      <th>Fantasy</th>\n",
              "      <th>Film-Noir</th>\n",
              "      <th>Horror</th>\n",
              "      <th>IMAX</th>\n",
              "      <th>Musical</th>\n",
              "      <th>Mystery</th>\n",
              "      <th>Romance</th>\n",
              "      <th>Sci-Fi</th>\n",
              "      <th>Thriller</th>\n",
              "      <th>War</th>\n",
              "      <th>Western</th>\n",
              "    </tr>\n",
              "  </thead>\n",
              "  <tbody>\n",
              "    <tr>\n",
              "      <th>9737</th>\n",
              "      <td>193581</td>\n",
              "      <td>Black Butler: Book of the Atlantic (2017)</td>\n",
              "      <td>Action|Animation|Comedy|Fantasy</td>\n",
              "      <td>0</td>\n",
              "      <td>1</td>\n",
              "      <td>0</td>\n",
              "      <td>1</td>\n",
              "      <td>0</td>\n",
              "      <td>1</td>\n",
              "      <td>0</td>\n",
              "      <td>0</td>\n",
              "      <td>0</td>\n",
              "      <td>1</td>\n",
              "      <td>0</td>\n",
              "      <td>0</td>\n",
              "      <td>0</td>\n",
              "      <td>0</td>\n",
              "      <td>0</td>\n",
              "      <td>0</td>\n",
              "      <td>0</td>\n",
              "      <td>0</td>\n",
              "      <td>0</td>\n",
              "      <td>0</td>\n",
              "    </tr>\n",
              "    <tr>\n",
              "      <th>9738</th>\n",
              "      <td>193583</td>\n",
              "      <td>No Game No Life: Zero (2017)</td>\n",
              "      <td>Animation|Comedy|Fantasy</td>\n",
              "      <td>0</td>\n",
              "      <td>0</td>\n",
              "      <td>0</td>\n",
              "      <td>1</td>\n",
              "      <td>0</td>\n",
              "      <td>1</td>\n",
              "      <td>0</td>\n",
              "      <td>0</td>\n",
              "      <td>0</td>\n",
              "      <td>1</td>\n",
              "      <td>0</td>\n",
              "      <td>0</td>\n",
              "      <td>0</td>\n",
              "      <td>0</td>\n",
              "      <td>0</td>\n",
              "      <td>0</td>\n",
              "      <td>0</td>\n",
              "      <td>0</td>\n",
              "      <td>0</td>\n",
              "      <td>0</td>\n",
              "    </tr>\n",
              "    <tr>\n",
              "      <th>9739</th>\n",
              "      <td>193585</td>\n",
              "      <td>Flint (2017)</td>\n",
              "      <td>Drama</td>\n",
              "      <td>0</td>\n",
              "      <td>0</td>\n",
              "      <td>0</td>\n",
              "      <td>0</td>\n",
              "      <td>0</td>\n",
              "      <td>0</td>\n",
              "      <td>0</td>\n",
              "      <td>0</td>\n",
              "      <td>1</td>\n",
              "      <td>0</td>\n",
              "      <td>0</td>\n",
              "      <td>0</td>\n",
              "      <td>0</td>\n",
              "      <td>0</td>\n",
              "      <td>0</td>\n",
              "      <td>0</td>\n",
              "      <td>0</td>\n",
              "      <td>0</td>\n",
              "      <td>0</td>\n",
              "      <td>0</td>\n",
              "    </tr>\n",
              "    <tr>\n",
              "      <th>9740</th>\n",
              "      <td>193587</td>\n",
              "      <td>Bungo Stray Dogs: Dead Apple (2018)</td>\n",
              "      <td>Action|Animation</td>\n",
              "      <td>0</td>\n",
              "      <td>1</td>\n",
              "      <td>0</td>\n",
              "      <td>1</td>\n",
              "      <td>0</td>\n",
              "      <td>0</td>\n",
              "      <td>0</td>\n",
              "      <td>0</td>\n",
              "      <td>0</td>\n",
              "      <td>0</td>\n",
              "      <td>0</td>\n",
              "      <td>0</td>\n",
              "      <td>0</td>\n",
              "      <td>0</td>\n",
              "      <td>0</td>\n",
              "      <td>0</td>\n",
              "      <td>0</td>\n",
              "      <td>0</td>\n",
              "      <td>0</td>\n",
              "      <td>0</td>\n",
              "    </tr>\n",
              "    <tr>\n",
              "      <th>9741</th>\n",
              "      <td>193609</td>\n",
              "      <td>Andrew Dice Clay: Dice Rules (1991)</td>\n",
              "      <td>Comedy</td>\n",
              "      <td>0</td>\n",
              "      <td>0</td>\n",
              "      <td>0</td>\n",
              "      <td>0</td>\n",
              "      <td>0</td>\n",
              "      <td>1</td>\n",
              "      <td>0</td>\n",
              "      <td>0</td>\n",
              "      <td>0</td>\n",
              "      <td>0</td>\n",
              "      <td>0</td>\n",
              "      <td>0</td>\n",
              "      <td>0</td>\n",
              "      <td>0</td>\n",
              "      <td>0</td>\n",
              "      <td>0</td>\n",
              "      <td>0</td>\n",
              "      <td>0</td>\n",
              "      <td>0</td>\n",
              "      <td>0</td>\n",
              "    </tr>\n",
              "  </tbody>\n",
              "</table>\n",
              "</div>"
            ],
            "text/plain": [
              "      filme_id                                     titulo  ... War  Western\n",
              "9737    193581  Black Butler: Book of the Atlantic (2017)  ...   0        0\n",
              "9738    193583               No Game No Life: Zero (2017)  ...   0        0\n",
              "9739    193585                               Flint (2017)  ...   0        0\n",
              "9740    193587        Bungo Stray Dogs: Dead Apple (2018)  ...   0        0\n",
              "9741    193609        Andrew Dice Clay: Dice Rules (1991)  ...   0        0\n",
              "\n",
              "[5 rows x 23 columns]"
            ]
          },
          "metadata": {
            "tags": []
          },
          "execution_count": 8
        }
      ]
    },
    {
      "cell_type": "markdown",
      "metadata": {
        "id": "536SJB9nK3Nn",
        "colab_type": "text"
      },
      "source": [
        "Transformar os dados (escalar)"
      ]
    },
    {
      "cell_type": "code",
      "metadata": {
        "id": "G73YO0UsK51c",
        "colab_type": "code",
        "colab": {
          "base_uri": "https://localhost:8080/",
          "height": 238
        },
        "outputId": "b59dc424-064d-44a9-9524-2ead7ee66ef7"
      },
      "source": [
        "from sklearn.preprocessing import StandardScaler\n",
        "\n",
        "scaler = StandardScaler()\n",
        "\n",
        "generos_escalados = scaler.fit_transform(generos)\n",
        "generos_escalados"
      ],
      "execution_count": 10,
      "outputs": [
        {
          "output_type": "execute_result",
          "data": {
            "text/plain": [
              "array([[-0.05917995, -0.48060698,  2.59101927, ..., -0.49125897,\n",
              "        -0.20201972, -0.13206534],\n",
              "       [-0.05917995, -0.48060698,  2.59101927, ..., -0.49125897,\n",
              "        -0.20201972, -0.13206534],\n",
              "       [-0.05917995, -0.48060698, -0.3859485 , ..., -0.49125897,\n",
              "        -0.20201972, -0.13206534],\n",
              "       ...,\n",
              "       [-0.05917995, -0.48060698, -0.3859485 , ..., -0.49125897,\n",
              "        -0.20201972, -0.13206534],\n",
              "       [-0.05917995,  2.0807022 , -0.3859485 , ..., -0.49125897,\n",
              "        -0.20201972, -0.13206534],\n",
              "       [-0.05917995, -0.48060698, -0.3859485 , ..., -0.49125897,\n",
              "        -0.20201972, -0.13206534]])"
            ]
          },
          "metadata": {
            "tags": []
          },
          "execution_count": 10
        }
      ]
    },
    {
      "cell_type": "markdown",
      "metadata": {
        "id": "qsUWubVIMG5a",
        "colab_type": "text"
      },
      "source": [
        "Usando clusters (KMeans)"
      ]
    },
    {
      "cell_type": "code",
      "metadata": {
        "id": "zq1BM8DXL6cl",
        "colab_type": "code",
        "colab": {
          "base_uri": "https://localhost:8080/",
          "height": 68
        },
        "outputId": "fa0cb38c-cfb2-4717-ef8f-399fc15b3042"
      },
      "source": [
        "from sklearn.cluster import KMeans\n",
        "\n",
        "modelo = KMeans()\n",
        "\n",
        "modelo.fit(generos_escalados)"
      ],
      "execution_count": 12,
      "outputs": [
        {
          "output_type": "execute_result",
          "data": {
            "text/plain": [
              "KMeans(algorithm='auto', copy_x=True, init='k-means++', max_iter=300,\n",
              "       n_clusters=8, n_init=10, n_jobs=None, precompute_distances='auto',\n",
              "       random_state=None, tol=0.0001, verbose=0)"
            ]
          },
          "metadata": {
            "tags": []
          },
          "execution_count": 12
        }
      ]
    },
    {
      "cell_type": "code",
      "metadata": {
        "id": "G5G4RLppMk0j",
        "colab_type": "code",
        "colab": {
          "base_uri": "https://localhost:8080/",
          "height": 34
        },
        "outputId": "fc68eac2-a1bb-49f4-9115-0cd8e0f42f40"
      },
      "source": [
        "print(f'Grupos {modelo.labels_}')"
      ],
      "execution_count": 13,
      "outputs": [
        {
          "output_type": "stream",
          "text": [
            "Grupos [2 2 7 ... 1 2 7]\n"
          ],
          "name": "stdout"
        }
      ]
    },
    {
      "cell_type": "code",
      "metadata": {
        "id": "4vOVc43oMxJt",
        "colab_type": "code",
        "colab": {
          "base_uri": "https://localhost:8080/",
          "height": 122
        },
        "outputId": "bb0b7b2e-2423-4ef9-b0a9-daefdd913670"
      },
      "source": [
        "print(generos.columns)"
      ],
      "execution_count": 14,
      "outputs": [
        {
          "output_type": "stream",
          "text": [
            "Index(['(no genres listed)', 'Action', 'Adventure', 'Animation', 'Children',\n",
            "       'Comedy', 'Crime', 'Documentary', 'Drama', 'Fantasy', 'Film-Noir',\n",
            "       'Horror', 'IMAX', 'Musical', 'Mystery', 'Romance', 'Sci-Fi', 'Thriller',\n",
            "       'War', 'Western'],\n",
            "      dtype='object')\n"
          ],
          "name": "stdout"
        }
      ]
    },
    {
      "cell_type": "code",
      "metadata": {
        "id": "7_JLfMYlM3CC",
        "colab_type": "code",
        "colab": {
          "base_uri": "https://localhost:8080/",
          "height": 697
        },
        "outputId": "a78489a6-767f-44cf-f641-32651d226467"
      },
      "source": [
        "print(modelo.cluster_centers_)"
      ],
      "execution_count": 15,
      "outputs": [
        {
          "output_type": "stream",
          "text": [
            "[[-5.91799474e-02  4.50154483e-01 -2.37100112e-01 -2.18170949e-01\n",
            "  -2.63365553e-01 -1.79429774e-01  2.66928909e+00 -2.17489438e-01\n",
            "   1.77103275e-01 -2.38849119e-01 -9.49256298e-02 -1.61734491e-01\n",
            "  -5.06434181e-02 -1.54070570e-01  3.15442626e-01 -2.54469667e-01\n",
            "  -2.51320899e-01  7.33809744e-01 -1.60619462e-01 -1.32065337e-01]\n",
            " [-5.91799474e-02  1.37381502e-01  4.47277344e-02 -2.52641870e-01\n",
            "  -2.68515153e-01 -7.68067154e-01 -3.74631584e-01 -2.17489438e-01\n",
            "   3.87141404e-01 -2.67751640e-02 -9.49256298e-02  2.70736558e-01\n",
            "   5.12214815e-02 -6.90920588e-02  1.01518715e-01 -5.43965202e-02\n",
            "   2.25199938e-01  2.49102368e-01  1.71279476e-01 -1.32065337e-01]\n",
            " [-5.91799474e-02 -2.82906762e-02  8.68178346e-01  2.30375870e+00\n",
            "   2.48602547e+00  2.24220852e-01 -3.35773022e-01 -2.17489438e-01\n",
            "  -5.83612792e-01  8.54381781e-01 -9.49256298e-02 -2.66795763e-01\n",
            "   2.00063258e-01  3.84541256e-01 -1.27906024e-01 -2.58678459e-01\n",
            "   1.35954338e-01 -4.61689501e-01 -1.80096178e-01 -1.32065337e-01]\n",
            " [-5.91799474e-02 -4.57269310e-01 -3.52042261e-01 -2.30493698e-01\n",
            "  -2.61412555e-01 -6.04923458e-01 -3.39962783e-01  4.59792443e+00\n",
            "  -7.99465004e-01 -2.78013402e-01 -9.49256298e-02 -3.18895422e-01\n",
            "   1.58714649e-02 -2.56749186e-02 -2.30623248e-01 -4.30324398e-01\n",
            "  -3.34434762e-01 -4.79747143e-01 -6.11896950e-02 -1.32065337e-01]\n",
            " [-5.91799474e-02  1.52005530e-01  2.59658967e-01 -1.84140506e-01\n",
            "  -1.27030418e-01 -3.09430531e-01 -1.91262868e-01 -1.88480921e-01\n",
            "  -1.97589534e-01 -1.61551089e-01 -9.49256298e-02 -1.93735887e-01\n",
            "  -3.30147131e-02  1.42649770e-01 -1.73175442e-01 -1.17110680e-01\n",
            "  -1.74215266e-01 -2.32485661e-01  1.08343634e-01  7.57200960e+00]\n",
            " [-5.91799474e-02 -3.33405302e-01 -3.17512460e-01 -1.63863709e-01\n",
            "  -2.70451223e-01 -7.44895242e-01  1.44472330e+00 -2.17489438e-01\n",
            "   2.55531052e-01 -2.52432562e-01  1.05345627e+01 -2.57559288e-01\n",
            "  -1.28397078e-01 -1.88418950e-01  9.22483843e-01 -1.94188487e-01\n",
            "  -2.19794951e-01  6.99553150e-01 -2.02019716e-01 -4.35127516e-02]\n",
            " [ 1.68976156e+01 -4.80606979e-01 -3.85948500e-01 -2.58679155e-01\n",
            "  -2.70451223e-01 -7.92126305e-01 -3.74631584e-01 -2.17489438e-01\n",
            "  -9.00246719e-01 -2.94809878e-01 -9.49256298e-02 -3.34055205e-01\n",
            "  -1.28397078e-01 -1.88418950e-01 -2.49986367e-01 -4.42633460e-01\n",
            "  -3.34434762e-01 -4.91258966e-01 -2.02019716e-01 -1.32065337e-01]\n",
            " [-5.91799474e-02 -2.86962322e-01 -2.03600107e-01 -2.55791880e-01\n",
            "  -2.70451223e-01  1.24157020e+00 -3.74631584e-01 -2.17489438e-01\n",
            "  -2.95593305e-01 -8.57563636e-02 -9.49256298e-02 -1.65172462e-01\n",
            "  -1.14542097e-01  3.66428868e-02 -2.06844634e-01  3.47018493e-01\n",
            "  -1.97123794e-01 -4.21388202e-01 -1.11854655e-01 -1.32065337e-01]]\n"
          ],
          "name": "stdout"
        }
      ]
    }
  ]
}