{
  "nbformat": 4,
  "nbformat_minor": 0,
  "metadata": {
    "colab": {
      "name": "KMeans(Não_Supervisionado) - 2.ipynb",
      "provenance": [],
      "include_colab_link": true
    },
    "kernelspec": {
      "name": "python3",
      "display_name": "Python 3"
    }
  },
  "cells": [
    {
      "cell_type": "markdown",
      "metadata": {
        "id": "view-in-github",
        "colab_type": "text"
      },
      "source": [
        "<a href=\"https://colab.research.google.com/github/DWA-GIT/TESI-UNIFACISA/blob/master/KMeans(N%C3%A3o_Supervisionado)_2.ipynb\" target=\"_parent\"><img src=\"https://colab.research.google.com/assets/colab-badge.svg\" alt=\"Open In Colab\"/></a>"
      ]
    },
    {
      "cell_type": "code",
      "metadata": {
        "id": "RlVUOeXTHcE0",
        "colab_type": "code",
        "outputId": "458bf1a1-60c0-4a7e-a885-281c140acf74",
        "colab": {
          "base_uri": "https://localhost:8080/",
          "height": 255
        }
      },
      "source": [
        "\n",
        "\n",
        "!pip install seaborn==0.9.0"
      ],
      "execution_count": 0,
      "outputs": [
        {
          "output_type": "stream",
          "text": [
            "Requirement already satisfied: seaborn==0.9.0 in /usr/local/lib/python3.6/dist-packages (0.9.0)\n",
            "Requirement already satisfied: scipy>=0.14.0 in /usr/local/lib/python3.6/dist-packages (from seaborn==0.9.0) (1.3.1)\n",
            "Requirement already satisfied: matplotlib>=1.4.3 in /usr/local/lib/python3.6/dist-packages (from seaborn==0.9.0) (3.1.1)\n",
            "Requirement already satisfied: numpy>=1.9.3 in /usr/local/lib/python3.6/dist-packages (from seaborn==0.9.0) (1.17.3)\n",
            "Requirement already satisfied: pandas>=0.15.2 in /usr/local/lib/python3.6/dist-packages (from seaborn==0.9.0) (0.25.3)\n",
            "Requirement already satisfied: cycler>=0.10 in /usr/local/lib/python3.6/dist-packages (from matplotlib>=1.4.3->seaborn==0.9.0) (0.10.0)\n",
            "Requirement already satisfied: pyparsing!=2.0.4,!=2.1.2,!=2.1.6,>=2.0.1 in /usr/local/lib/python3.6/dist-packages (from matplotlib>=1.4.3->seaborn==0.9.0) (2.4.2)\n",
            "Requirement already satisfied: kiwisolver>=1.0.1 in /usr/local/lib/python3.6/dist-packages (from matplotlib>=1.4.3->seaborn==0.9.0) (1.1.0)\n",
            "Requirement already satisfied: python-dateutil>=2.1 in /usr/local/lib/python3.6/dist-packages (from matplotlib>=1.4.3->seaborn==0.9.0) (2.6.1)\n",
            "Requirement already satisfied: pytz>=2017.2 in /usr/local/lib/python3.6/dist-packages (from pandas>=0.15.2->seaborn==0.9.0) (2018.9)\n",
            "Requirement already satisfied: six in /usr/local/lib/python3.6/dist-packages (from cycler>=0.10->matplotlib>=1.4.3->seaborn==0.9.0) (1.12.0)\n",
            "Requirement already satisfied: setuptools in /usr/local/lib/python3.6/dist-packages (from kiwisolver>=1.0.1->matplotlib>=1.4.3->seaborn==0.9.0) (41.4.0)\n"
          ],
          "name": "stdout"
        }
      ]
    },
    {
      "cell_type": "code",
      "metadata": {
        "id": "6-VgPP56IS_Z",
        "colab_type": "code",
        "outputId": "2445acbf-01db-458e-ba9c-27c0139cee7a",
        "colab": {
          "base_uri": "https://localhost:8080/",
          "height": 198
        }
      },
      "source": [
        "import pandas as pd\n",
        "uri_filmes = 'https://raw.githubusercontent.com/DWA-GIT/TESI-UNIFACISA/master/movies_novo.csv'\n",
        "filmes = pd.read_csv(uri_filmes)\n",
        "filmes.head(5)"
      ],
      "execution_count": 0,
      "outputs": [
        {
          "output_type": "execute_result",
          "data": {
            "text/html": [
              "<div>\n",
              "<style scoped>\n",
              "    .dataframe tbody tr th:only-of-type {\n",
              "        vertical-align: middle;\n",
              "    }\n",
              "\n",
              "    .dataframe tbody tr th {\n",
              "        vertical-align: top;\n",
              "    }\n",
              "\n",
              "    .dataframe thead th {\n",
              "        text-align: right;\n",
              "    }\n",
              "</style>\n",
              "<table border=\"1\" class=\"dataframe\">\n",
              "  <thead>\n",
              "    <tr style=\"text-align: right;\">\n",
              "      <th></th>\n",
              "      <th>movieId</th>\n",
              "      <th>title</th>\n",
              "      <th>genres</th>\n",
              "    </tr>\n",
              "  </thead>\n",
              "  <tbody>\n",
              "    <tr>\n",
              "      <th>0</th>\n",
              "      <td>1</td>\n",
              "      <td>Toy Story (1995)</td>\n",
              "      <td>Adventure|Animation|Children|Comedy|Fantasy</td>\n",
              "    </tr>\n",
              "    <tr>\n",
              "      <th>1</th>\n",
              "      <td>2</td>\n",
              "      <td>Jumanji (1995)</td>\n",
              "      <td>Adventure|Children|Fantasy</td>\n",
              "    </tr>\n",
              "    <tr>\n",
              "      <th>2</th>\n",
              "      <td>3</td>\n",
              "      <td>Grumpier Old Men (1995)</td>\n",
              "      <td>Comedy|Romance</td>\n",
              "    </tr>\n",
              "    <tr>\n",
              "      <th>3</th>\n",
              "      <td>4</td>\n",
              "      <td>Waiting to Exhale (1995)</td>\n",
              "      <td>Comedy|Drama|Romance</td>\n",
              "    </tr>\n",
              "    <tr>\n",
              "      <th>4</th>\n",
              "      <td>5</td>\n",
              "      <td>Father of the Bride Part II (1995)</td>\n",
              "      <td>Comedy</td>\n",
              "    </tr>\n",
              "  </tbody>\n",
              "</table>\n",
              "</div>"
            ],
            "text/plain": [
              "   movieId  ...                                       genres\n",
              "0        1  ...  Adventure|Animation|Children|Comedy|Fantasy\n",
              "1        2  ...                   Adventure|Children|Fantasy\n",
              "2        3  ...                               Comedy|Romance\n",
              "3        4  ...                         Comedy|Drama|Romance\n",
              "4        5  ...                                       Comedy\n",
              "\n",
              "[5 rows x 3 columns]"
            ]
          },
          "metadata": {
            "tags": []
          },
          "execution_count": 51
        }
      ]
    },
    {
      "cell_type": "code",
      "metadata": {
        "id": "wnNCWu2iIvbv",
        "colab_type": "code",
        "outputId": "4050e792-fbe6-4449-b60e-0c83202b07df",
        "colab": {
          "base_uri": "https://localhost:8080/",
          "height": 35
        }
      },
      "source": [
        "filmes.shape"
      ],
      "execution_count": 0,
      "outputs": [
        {
          "output_type": "execute_result",
          "data": {
            "text/plain": [
              "(9742, 3)"
            ]
          },
          "metadata": {
            "tags": []
          },
          "execution_count": 52
        }
      ]
    },
    {
      "cell_type": "code",
      "metadata": {
        "id": "WpsUAMllI9Zy",
        "colab_type": "code",
        "outputId": "54c62697-26b0-490c-cb2b-bfc2cf035ec9",
        "colab": {
          "base_uri": "https://localhost:8080/",
          "height": 198
        }
      },
      "source": [
        "filmes.columns = ['filme_id', 'titulo', 'generos']\n",
        "filmes.head(5)"
      ],
      "execution_count": 0,
      "outputs": [
        {
          "output_type": "execute_result",
          "data": {
            "text/html": [
              "<div>\n",
              "<style scoped>\n",
              "    .dataframe tbody tr th:only-of-type {\n",
              "        vertical-align: middle;\n",
              "    }\n",
              "\n",
              "    .dataframe tbody tr th {\n",
              "        vertical-align: top;\n",
              "    }\n",
              "\n",
              "    .dataframe thead th {\n",
              "        text-align: right;\n",
              "    }\n",
              "</style>\n",
              "<table border=\"1\" class=\"dataframe\">\n",
              "  <thead>\n",
              "    <tr style=\"text-align: right;\">\n",
              "      <th></th>\n",
              "      <th>filme_id</th>\n",
              "      <th>titulo</th>\n",
              "      <th>generos</th>\n",
              "    </tr>\n",
              "  </thead>\n",
              "  <tbody>\n",
              "    <tr>\n",
              "      <th>0</th>\n",
              "      <td>1</td>\n",
              "      <td>Toy Story (1995)</td>\n",
              "      <td>Adventure|Animation|Children|Comedy|Fantasy</td>\n",
              "    </tr>\n",
              "    <tr>\n",
              "      <th>1</th>\n",
              "      <td>2</td>\n",
              "      <td>Jumanji (1995)</td>\n",
              "      <td>Adventure|Children|Fantasy</td>\n",
              "    </tr>\n",
              "    <tr>\n",
              "      <th>2</th>\n",
              "      <td>3</td>\n",
              "      <td>Grumpier Old Men (1995)</td>\n",
              "      <td>Comedy|Romance</td>\n",
              "    </tr>\n",
              "    <tr>\n",
              "      <th>3</th>\n",
              "      <td>4</td>\n",
              "      <td>Waiting to Exhale (1995)</td>\n",
              "      <td>Comedy|Drama|Romance</td>\n",
              "    </tr>\n",
              "    <tr>\n",
              "      <th>4</th>\n",
              "      <td>5</td>\n",
              "      <td>Father of the Bride Part II (1995)</td>\n",
              "      <td>Comedy</td>\n",
              "    </tr>\n",
              "  </tbody>\n",
              "</table>\n",
              "</div>"
            ],
            "text/plain": [
              "   filme_id  ...                                      generos\n",
              "0         1  ...  Adventure|Animation|Children|Comedy|Fantasy\n",
              "1         2  ...                   Adventure|Children|Fantasy\n",
              "2         3  ...                               Comedy|Romance\n",
              "3         4  ...                         Comedy|Drama|Romance\n",
              "4         5  ...                                       Comedy\n",
              "\n",
              "[5 rows x 3 columns]"
            ]
          },
          "metadata": {
            "tags": []
          },
          "execution_count": 53
        }
      ]
    },
    {
      "cell_type": "code",
      "metadata": {
        "id": "dhxZDXUQJQBT",
        "colab_type": "code",
        "outputId": "b45e0856-bd01-4066-bd69-5fdd56131447",
        "colab": {
          "base_uri": "https://localhost:8080/",
          "height": 408
        }
      },
      "source": [
        "generos = filmes.generos.str.get_dummies()\n",
        "dados_dos_filmes = pd.concat([filmes, generos], axis=1)\n",
        "dados_dos_filmes.head(5)"
      ],
      "execution_count": 0,
      "outputs": [
        {
          "output_type": "execute_result",
          "data": {
            "text/html": [
              "<div>\n",
              "<style scoped>\n",
              "    .dataframe tbody tr th:only-of-type {\n",
              "        vertical-align: middle;\n",
              "    }\n",
              "\n",
              "    .dataframe tbody tr th {\n",
              "        vertical-align: top;\n",
              "    }\n",
              "\n",
              "    .dataframe thead th {\n",
              "        text-align: right;\n",
              "    }\n",
              "</style>\n",
              "<table border=\"1\" class=\"dataframe\">\n",
              "  <thead>\n",
              "    <tr style=\"text-align: right;\">\n",
              "      <th></th>\n",
              "      <th>filme_id</th>\n",
              "      <th>titulo</th>\n",
              "      <th>generos</th>\n",
              "      <th>(no genres listed)</th>\n",
              "      <th>Action</th>\n",
              "      <th>Adventure</th>\n",
              "      <th>Animation</th>\n",
              "      <th>Children</th>\n",
              "      <th>Comedy</th>\n",
              "      <th>Crime</th>\n",
              "      <th>Documentary</th>\n",
              "      <th>Drama</th>\n",
              "      <th>Fantasy</th>\n",
              "      <th>Film-Noir</th>\n",
              "      <th>Horror</th>\n",
              "      <th>IMAX</th>\n",
              "      <th>Musical</th>\n",
              "      <th>Mystery</th>\n",
              "      <th>Romance</th>\n",
              "      <th>Sci-Fi</th>\n",
              "      <th>Thriller</th>\n",
              "      <th>War</th>\n",
              "      <th>Western</th>\n",
              "    </tr>\n",
              "  </thead>\n",
              "  <tbody>\n",
              "    <tr>\n",
              "      <th>0</th>\n",
              "      <td>1</td>\n",
              "      <td>Toy Story (1995)</td>\n",
              "      <td>Adventure|Animation|Children|Comedy|Fantasy</td>\n",
              "      <td>0</td>\n",
              "      <td>0</td>\n",
              "      <td>1</td>\n",
              "      <td>1</td>\n",
              "      <td>1</td>\n",
              "      <td>1</td>\n",
              "      <td>0</td>\n",
              "      <td>0</td>\n",
              "      <td>0</td>\n",
              "      <td>1</td>\n",
              "      <td>0</td>\n",
              "      <td>0</td>\n",
              "      <td>0</td>\n",
              "      <td>0</td>\n",
              "      <td>0</td>\n",
              "      <td>0</td>\n",
              "      <td>0</td>\n",
              "      <td>0</td>\n",
              "      <td>0</td>\n",
              "      <td>0</td>\n",
              "    </tr>\n",
              "    <tr>\n",
              "      <th>1</th>\n",
              "      <td>2</td>\n",
              "      <td>Jumanji (1995)</td>\n",
              "      <td>Adventure|Children|Fantasy</td>\n",
              "      <td>0</td>\n",
              "      <td>0</td>\n",
              "      <td>1</td>\n",
              "      <td>0</td>\n",
              "      <td>1</td>\n",
              "      <td>0</td>\n",
              "      <td>0</td>\n",
              "      <td>0</td>\n",
              "      <td>0</td>\n",
              "      <td>1</td>\n",
              "      <td>0</td>\n",
              "      <td>0</td>\n",
              "      <td>0</td>\n",
              "      <td>0</td>\n",
              "      <td>0</td>\n",
              "      <td>0</td>\n",
              "      <td>0</td>\n",
              "      <td>0</td>\n",
              "      <td>0</td>\n",
              "      <td>0</td>\n",
              "    </tr>\n",
              "    <tr>\n",
              "      <th>2</th>\n",
              "      <td>3</td>\n",
              "      <td>Grumpier Old Men (1995)</td>\n",
              "      <td>Comedy|Romance</td>\n",
              "      <td>0</td>\n",
              "      <td>0</td>\n",
              "      <td>0</td>\n",
              "      <td>0</td>\n",
              "      <td>0</td>\n",
              "      <td>1</td>\n",
              "      <td>0</td>\n",
              "      <td>0</td>\n",
              "      <td>0</td>\n",
              "      <td>0</td>\n",
              "      <td>0</td>\n",
              "      <td>0</td>\n",
              "      <td>0</td>\n",
              "      <td>0</td>\n",
              "      <td>0</td>\n",
              "      <td>1</td>\n",
              "      <td>0</td>\n",
              "      <td>0</td>\n",
              "      <td>0</td>\n",
              "      <td>0</td>\n",
              "    </tr>\n",
              "    <tr>\n",
              "      <th>3</th>\n",
              "      <td>4</td>\n",
              "      <td>Waiting to Exhale (1995)</td>\n",
              "      <td>Comedy|Drama|Romance</td>\n",
              "      <td>0</td>\n",
              "      <td>0</td>\n",
              "      <td>0</td>\n",
              "      <td>0</td>\n",
              "      <td>0</td>\n",
              "      <td>1</td>\n",
              "      <td>0</td>\n",
              "      <td>0</td>\n",
              "      <td>1</td>\n",
              "      <td>0</td>\n",
              "      <td>0</td>\n",
              "      <td>0</td>\n",
              "      <td>0</td>\n",
              "      <td>0</td>\n",
              "      <td>0</td>\n",
              "      <td>1</td>\n",
              "      <td>0</td>\n",
              "      <td>0</td>\n",
              "      <td>0</td>\n",
              "      <td>0</td>\n",
              "    </tr>\n",
              "    <tr>\n",
              "      <th>4</th>\n",
              "      <td>5</td>\n",
              "      <td>Father of the Bride Part II (1995)</td>\n",
              "      <td>Comedy</td>\n",
              "      <td>0</td>\n",
              "      <td>0</td>\n",
              "      <td>0</td>\n",
              "      <td>0</td>\n",
              "      <td>0</td>\n",
              "      <td>1</td>\n",
              "      <td>0</td>\n",
              "      <td>0</td>\n",
              "      <td>0</td>\n",
              "      <td>0</td>\n",
              "      <td>0</td>\n",
              "      <td>0</td>\n",
              "      <td>0</td>\n",
              "      <td>0</td>\n",
              "      <td>0</td>\n",
              "      <td>0</td>\n",
              "      <td>0</td>\n",
              "      <td>0</td>\n",
              "      <td>0</td>\n",
              "      <td>0</td>\n",
              "    </tr>\n",
              "  </tbody>\n",
              "</table>\n",
              "</div>"
            ],
            "text/plain": [
              "   filme_id                              titulo  ... War  Western\n",
              "0         1                    Toy Story (1995)  ...   0        0\n",
              "1         2                      Jumanji (1995)  ...   0        0\n",
              "2         3             Grumpier Old Men (1995)  ...   0        0\n",
              "3         4            Waiting to Exhale (1995)  ...   0        0\n",
              "4         5  Father of the Bride Part II (1995)  ...   0        0\n",
              "\n",
              "[5 rows x 23 columns]"
            ]
          },
          "metadata": {
            "tags": []
          },
          "execution_count": 54
        }
      ]
    },
    {
      "cell_type": "code",
      "metadata": {
        "id": "v4SkdxjVJjNj",
        "colab_type": "code",
        "outputId": "27ee00e4-a719-4040-fdb2-d3f8c48b0d04",
        "colab": {
          "base_uri": "https://localhost:8080/",
          "height": 35
        }
      },
      "source": [
        "dados_dos_filmes.shape"
      ],
      "execution_count": 0,
      "outputs": [
        {
          "output_type": "execute_result",
          "data": {
            "text/plain": [
              "(9742, 23)"
            ]
          },
          "metadata": {
            "tags": []
          },
          "execution_count": 55
        }
      ]
    },
    {
      "cell_type": "code",
      "metadata": {
        "id": "LXFpP6rJJvu9",
        "colab_type": "code",
        "outputId": "154e54db-82f0-415f-d111-614255117745",
        "colab": {
          "base_uri": "https://localhost:8080/",
          "height": 254
        }
      },
      "source": [
        "from sklearn.preprocessing import StandardScaler\n",
        "\n",
        "scaler = StandardScaler()\n",
        "\n",
        "generos_escalados = scaler.fit_transform(generos)\n",
        "\n",
        "generos_escalados"
      ],
      "execution_count": 0,
      "outputs": [
        {
          "output_type": "execute_result",
          "data": {
            "text/plain": [
              "array([[-0.05917995, -0.48060698,  2.59101927, ..., -0.49125897,\n",
              "        -0.20201972, -0.13206534],\n",
              "       [-0.05917995, -0.48060698,  2.59101927, ..., -0.49125897,\n",
              "        -0.20201972, -0.13206534],\n",
              "       [-0.05917995, -0.48060698, -0.3859485 , ..., -0.49125897,\n",
              "        -0.20201972, -0.13206534],\n",
              "       ...,\n",
              "       [-0.05917995, -0.48060698, -0.3859485 , ..., -0.49125897,\n",
              "        -0.20201972, -0.13206534],\n",
              "       [-0.05917995,  2.0807022 , -0.3859485 , ..., -0.49125897,\n",
              "        -0.20201972, -0.13206534],\n",
              "       [-0.05917995, -0.48060698, -0.3859485 , ..., -0.49125897,\n",
              "        -0.20201972, -0.13206534]])"
            ]
          },
          "metadata": {
            "tags": []
          },
          "execution_count": 56
        }
      ]
    },
    {
      "cell_type": "code",
      "metadata": {
        "id": "XkXSifsOKdgG",
        "colab_type": "code",
        "outputId": "5024d3f8-f135-439b-febc-8e91dc06bdb9",
        "colab": {
          "base_uri": "https://localhost:8080/",
          "height": 35
        }
      },
      "source": [
        "generos_escalados.shape"
      ],
      "execution_count": 0,
      "outputs": [
        {
          "output_type": "execute_result",
          "data": {
            "text/plain": [
              "(9742, 20)"
            ]
          },
          "metadata": {
            "tags": []
          },
          "execution_count": 57
        }
      ]
    },
    {
      "cell_type": "code",
      "metadata": {
        "id": "wbOsuEtyKuwJ",
        "colab_type": "code",
        "outputId": "cc53cda5-2fa4-4f0d-9f59-d36de0a438c4",
        "colab": {
          "base_uri": "https://localhost:8080/",
          "height": 72
        }
      },
      "source": [
        "from sklearn.cluster import KMeans\n",
        "\n",
        "modelo = KMeans(n_clusters=20)\n",
        "modelo.fit(generos_escalados)\n"
      ],
      "execution_count": 0,
      "outputs": [
        {
          "output_type": "execute_result",
          "data": {
            "text/plain": [
              "KMeans(algorithm='auto', copy_x=True, init='k-means++', max_iter=300,\n",
              "       n_clusters=20, n_init=10, n_jobs=None, precompute_distances='auto',\n",
              "       random_state=None, tol=0.0001, verbose=0)"
            ]
          },
          "metadata": {
            "tags": []
          },
          "execution_count": 58
        }
      ]
    },
    {
      "cell_type": "code",
      "metadata": {
        "id": "HwRsJzDFLdep",
        "colab_type": "code",
        "outputId": "05ae717b-d04a-4512-9daf-2f9377f5b553",
        "colab": {
          "base_uri": "https://localhost:8080/",
          "height": 54
        }
      },
      "source": [
        "print(f'Grupos {modelo.labels_}')\n",
        "modelo.labels_.shape"
      ],
      "execution_count": 0,
      "outputs": [
        {
          "output_type": "stream",
          "text": [
            "Grupos [ 3 18 13 ...  2  3 11]\n"
          ],
          "name": "stdout"
        },
        {
          "output_type": "execute_result",
          "data": {
            "text/plain": [
              "(9742,)"
            ]
          },
          "metadata": {
            "tags": []
          },
          "execution_count": 59
        }
      ]
    },
    {
      "cell_type": "code",
      "metadata": {
        "id": "XCctdT6uL9CY",
        "colab_type": "code",
        "outputId": "8807ee15-fa08-42e0-b694-6179a16eadf7",
        "colab": {
          "base_uri": "https://localhost:8080/",
          "height": 108
        }
      },
      "source": [
        "print(generos.columns)"
      ],
      "execution_count": 0,
      "outputs": [
        {
          "output_type": "stream",
          "text": [
            "Index(['(no genres listed)', 'Action', 'Adventure', 'Animation', 'Children',\n",
            "       'Comedy', 'Crime', 'Documentary', 'Drama', 'Fantasy', 'Film-Noir',\n",
            "       'Horror', 'IMAX', 'Musical', 'Mystery', 'Romance', 'Sci-Fi', 'Thriller',\n",
            "       'War', 'Western'],\n",
            "      dtype='object')\n"
          ],
          "name": "stdout"
        }
      ]
    },
    {
      "cell_type": "code",
      "metadata": {
        "id": "z4G3Umz6MWQ0",
        "colab_type": "code",
        "outputId": "c6f30bff-4189-48a8-8925-97c07a9d9917",
        "colab": {
          "base_uri": "https://localhost:8080/",
          "height": 1000
        }
      },
      "source": [
        "print(modelo.cluster_centers_)"
      ],
      "execution_count": 0,
      "outputs": [
        {
          "output_type": "stream",
          "text": [
            "[[-5.91799474e-02 -4.22634960e-01 -2.14435954e-01 -2.07759749e-01\n",
            "  -2.70451223e-01 -7.92126305e-01 -2.68156992e-01 -2.17489438e-01\n",
            "   9.49425781e-01 -8.24001216e-02 -9.49256298e-02 -3.27208348e-01\n",
            "  -1.28397078e-01 -1.88418950e-01 -2.49986367e-01  2.25920562e+00\n",
            "  -2.18143760e-01 -3.71675756e-01 -2.02019716e-01 -1.32065337e-01]\n",
            " [-5.91799474e-02 -2.54358001e-01 -3.51217210e-01 -2.51805035e-01\n",
            "  -2.70451223e-01 -3.40125032e-01 -2.17362349e-01 -2.17489438e-01\n",
            "  -5.68422921e-01  1.85703732e-02 -9.49256298e-02  2.99351719e+00\n",
            "  -1.28397078e-01 -1.88418950e-01 -2.49986367e-01 -3.52572158e-01\n",
            "  -3.34434762e-01  6.33187157e-01 -2.02019716e-01 -1.32065337e-01]\n",
            " [-5.91799474e-02 -3.66105537e-01 -2.81529411e-01 -2.58679155e-01\n",
            "  -2.70451223e-01 -7.92126305e-01 -3.74631584e-01 -2.17489438e-01\n",
            "   9.89092234e-01 -2.03526691e-01 -9.49256298e-02 -3.34055205e-01\n",
            "  -1.28397078e-01 -1.88418950e-01 -2.49986367e-01 -4.42633460e-01\n",
            "  -3.34434762e-01 -2.72509373e-02 -2.02019716e-01 -1.32065337e-01]\n",
            " [-5.91799474e-02  1.58377912e-01  8.87220104e-01  3.86579274e+00\n",
            "   1.58459818e+00  1.51158227e-01 -2.85292193e-01 -2.17489438e-01\n",
            "  -6.51500082e-01  7.25443991e-01 -9.49256298e-02 -2.57318735e-01\n",
            "  -1.28397078e-01 -1.88418950e-01 -1.78704111e-01 -3.12356104e-01\n",
            "   2.71930532e-01 -4.64772119e-01 -1.80417907e-01 -1.32065337e-01]\n",
            " [-5.91799474e-02  2.08070220e+00 -2.23670182e-01 -2.19915321e-01\n",
            "  -2.70451223e-01 -3.40279509e-01  1.64511277e+00 -2.17489438e-01\n",
            "  -1.89573741e-01 -2.11648378e-01 -9.49256298e-02 -2.71506852e-01\n",
            "  -1.28397078e-01 -1.88418950e-01 -2.49986367e-01 -3.86768366e-01\n",
            "  -2.84441461e-01  9.71651425e-01 -2.02019716e-01 -1.32065337e-01]\n",
            " [-5.91799474e-02  4.02104096e-01  3.45271730e-02 -2.00423902e-01\n",
            "  -2.59242253e-01 -4.67112549e-01 -2.97243770e-01 -1.90283710e-01\n",
            "   7.47226341e-01 -2.42736057e-01 -9.49256298e-02 -3.05855439e-01\n",
            "  -1.28397078e-01 -1.88418950e-01 -2.13967684e-01 -5.33854574e-02\n",
            "  -2.31129395e-01 -1.98601751e-01  4.95001190e+00 -1.32065337e-01]\n",
            " [-5.91799474e-02  1.50401799e+00  2.57894232e+00 -2.58679155e-01\n",
            "  -2.70451223e-01 -3.62879291e-01 -3.62283021e-01 -2.17489438e-01\n",
            "  -5.16800447e-01  8.04507552e-01 -9.49256298e-02 -2.53059528e-01\n",
            "  -1.28397078e-01 -1.88418950e-01 -2.15501949e-01 -2.67260538e-01\n",
            "   9.80551316e-01  1.34045531e-01 -2.02019716e-01 -1.32065337e-01]\n",
            " [-5.91799474e-02  1.28484839e-01  2.49379987e-01 -1.83231498e-01\n",
            "  -1.25281383e-01 -3.03543998e-01 -1.89026665e-01 -1.88127158e-01\n",
            "  -1.89020544e-01 -1.59925982e-01 -9.49256298e-02 -1.92024676e-01\n",
            "  -1.28397078e-01  1.46687193e-01 -1.72238723e-01 -1.13140890e-01\n",
            "  -1.92533044e-01 -2.44737481e-01  1.12128553e-01  7.57200960e+00]\n",
            " [-5.91799474e-02 -4.56038066e-01 -3.57392455e-01 -2.38897515e-01\n",
            "  -2.60935694e-01 -5.99974031e-01 -3.38133734e-01  4.59792443e+00\n",
            "  -8.08615992e-01 -2.77127257e-01 -9.49256298e-02 -3.18095625e-01\n",
            "  -1.28397078e-01 -1.88418950e-01 -2.29601693e-01 -4.29674999e-01\n",
            "  -3.34434762e-01 -4.79139805e-01 -7.84697976e-02 -1.32065337e-01]\n",
            " [-5.91799474e-02 -3.33405302e-01 -3.17512460e-01 -1.63863709e-01\n",
            "  -2.70451223e-01 -7.44895242e-01  1.44472330e+00 -2.17489438e-01\n",
            "   2.55531052e-01 -2.52432562e-01  1.05345627e+01 -2.57559288e-01\n",
            "  -1.28397078e-01 -1.88418950e-01  9.22483843e-01 -1.94188487e-01\n",
            "  -2.19794951e-01  6.99553150e-01 -2.02019716e-01 -4.35127516e-02]\n",
            " [-5.91799474e-02  3.15475605e-01  1.42436974e+00  1.52487626e+00\n",
            "   1.28456625e+00 -1.53549568e-01 -3.33497521e-01  3.03095846e-01\n",
            "  -5.46953568e-01  1.89735722e+00 -9.49256298e-02 -1.99153621e-01\n",
            "   7.78833922e+00  4.05715185e-01 -7.76807785e-02 -1.50542749e-01\n",
            "  -1.54729111e-01 -3.54672738e-01 -1.32397668e-01 -1.32065337e-01]\n",
            " [-5.91799474e-02 -3.13565075e-01 -2.97194182e-01 -2.58679155e-01\n",
            "  -2.70451223e-01  1.26242494e+00 -3.74631584e-01 -2.17489438e-01\n",
            "  -2.98179824e-01 -1.75732252e-01 -9.49256298e-02 -3.34055205e-01\n",
            "  -1.28397078e-01 -1.88418950e-01 -2.49986367e-01 -4.42633460e-01\n",
            "  -3.34434762e-01 -4.47313832e-01 -2.02019716e-01 -1.32065337e-01]\n",
            " [-5.91799474e-02  1.65381734e+00  8.54454736e-01 -1.60477443e-01\n",
            "  -2.23213418e-01 -6.94290531e-01 -1.22600749e-02 -2.17489438e-01\n",
            "  -4.45365611e-01 -1.63137503e-01 -9.49256298e-02  2.24704093e-02\n",
            "   7.78833922e+00 -1.88418950e-01 -9.81933485e-02 -4.10468709e-01\n",
            "   1.96109100e+00  4.41267247e-01 -1.80185873e-02  5.13650185e-02]\n",
            " [-5.91799474e-02 -4.28898180e-01 -3.09821464e-01 -2.58679155e-01\n",
            "  -2.70451223e-01  1.26242494e+00 -3.00889226e-01 -2.17489438e-01\n",
            "  -7.20067238e-02 -7.64782961e-02 -9.49256298e-02 -3.34055205e-01\n",
            "  -1.28397078e-01 -1.88418950e-01 -2.49986367e-01  2.25920562e+00\n",
            "  -2.98638751e-01 -4.64052019e-01 -2.02019716e-01 -1.32065337e-01]\n",
            " [ 1.68976156e+01 -4.80606979e-01 -3.85948500e-01 -2.58679155e-01\n",
            "  -2.70451223e-01 -7.92126305e-01 -3.74631584e-01 -2.17489438e-01\n",
            "  -9.00246719e-01 -2.94809878e-01 -9.49256298e-02 -3.34055205e-01\n",
            "  -1.28397078e-01 -1.88418950e-01 -2.49986367e-01 -4.42633460e-01\n",
            "  -3.34434762e-01 -4.91258966e-01 -2.02019716e-01 -1.32065337e-01]\n",
            " [-5.91799474e-02 -1.47838463e-01 -2.62884872e-01 -1.85607803e-01\n",
            "  -2.39207321e-01 -5.29240811e-01  4.88212072e-01 -2.17489438e-01\n",
            "   1.40908839e-01 -1.90236449e-02 -9.49256298e-02  5.24039252e-01\n",
            "  -1.28397078e-01 -1.88418950e-01  4.00021814e+00 -1.44792932e-01\n",
            "   6.47735591e-02  1.17009203e+00 -2.02019716e-01 -1.32065337e-01]\n",
            " [-5.91799474e-02 -4.40079935e-01 -2.79587055e-02  5.63604799e-01\n",
            "   7.21542684e-01  2.48152805e-01 -2.97570301e-01 -3.46256199e-02\n",
            "  -1.81104234e-01  2.65214398e-01 -9.49256298e-02 -2.60343158e-01\n",
            "  -1.28397078e-01  5.30732180e+00 -1.82736295e-01  3.26877670e-01\n",
            "  -2.60789567e-01 -4.67269929e-01 -1.69411921e-01 -1.32065337e-01]\n",
            " [-5.91799474e-02 -4.80606979e-01 -3.04705715e-01 -2.50639249e-01\n",
            "  -2.70451223e-01 -1.15285837e-01  2.66928909e+00 -2.17489438e-01\n",
            "   4.01253676e-01 -2.66062693e-01 -9.49256298e-02 -3.27568709e-01\n",
            "  -1.28397078e-01 -1.88418950e-01 -2.49986367e-01 -3.53098832e-01\n",
            "  -3.08512310e-01  5.67750240e-01 -2.02019716e-01 -1.32065337e-01]\n",
            " [-5.91799474e-02 -1.91556413e-01  9.11225542e-01 -2.58679155e-01\n",
            "   3.69752441e+00  3.92944004e-01 -3.46005371e-01 -2.17489438e-01\n",
            "  -4.65253994e-01  8.60935101e-01 -9.49256298e-02 -3.13192682e-01\n",
            "  -1.28397078e-01 -1.88418950e-01 -1.16751116e-01 -3.07118021e-01\n",
            "   9.48467342e-03 -4.75416677e-01 -2.02019716e-01 -1.32065337e-01]\n",
            " [-5.91799474e-02  4.64446305e-01 -3.67225433e-01 -2.32739080e-01\n",
            "  -2.62132616e-01 -4.00167892e-01 -3.17199118e-01 -2.17489438e-01\n",
            "  -5.03938517e-01 -9.38507823e-02 -9.49256298e-02  9.00704365e-01\n",
            "  -1.28397078e-01 -1.88418950e-01 -2.49986367e-01 -3.74662666e-01\n",
            "   2.99011978e+00  4.46375424e-01 -2.02019716e-01 -1.32065337e-01]]\n"
          ],
          "name": "stdout"
        }
      ]
    },
    {
      "cell_type": "code",
      "metadata": {
        "id": "p5E2ZqCcMmLw",
        "colab_type": "code",
        "outputId": "8b3d9ecc-f2f3-4f54-edbf-e6a9104e186c",
        "colab": {
          "base_uri": "https://localhost:8080/",
          "height": 703
        }
      },
      "source": [
        "grupos = pd.DataFrame(modelo.cluster_centers_, columns=generos.columns)\n",
        "grupos"
      ],
      "execution_count": 0,
      "outputs": [
        {
          "output_type": "execute_result",
          "data": {
            "text/html": [
              "<div>\n",
              "<style scoped>\n",
              "    .dataframe tbody tr th:only-of-type {\n",
              "        vertical-align: middle;\n",
              "    }\n",
              "\n",
              "    .dataframe tbody tr th {\n",
              "        vertical-align: top;\n",
              "    }\n",
              "\n",
              "    .dataframe thead th {\n",
              "        text-align: right;\n",
              "    }\n",
              "</style>\n",
              "<table border=\"1\" class=\"dataframe\">\n",
              "  <thead>\n",
              "    <tr style=\"text-align: right;\">\n",
              "      <th></th>\n",
              "      <th>(no genres listed)</th>\n",
              "      <th>Action</th>\n",
              "      <th>Adventure</th>\n",
              "      <th>Animation</th>\n",
              "      <th>Children</th>\n",
              "      <th>Comedy</th>\n",
              "      <th>Crime</th>\n",
              "      <th>Documentary</th>\n",
              "      <th>Drama</th>\n",
              "      <th>Fantasy</th>\n",
              "      <th>Film-Noir</th>\n",
              "      <th>Horror</th>\n",
              "      <th>IMAX</th>\n",
              "      <th>Musical</th>\n",
              "      <th>Mystery</th>\n",
              "      <th>Romance</th>\n",
              "      <th>Sci-Fi</th>\n",
              "      <th>Thriller</th>\n",
              "      <th>War</th>\n",
              "      <th>Western</th>\n",
              "    </tr>\n",
              "  </thead>\n",
              "  <tbody>\n",
              "    <tr>\n",
              "      <th>0</th>\n",
              "      <td>-0.059180</td>\n",
              "      <td>-0.422635</td>\n",
              "      <td>-0.214436</td>\n",
              "      <td>-0.207760</td>\n",
              "      <td>-0.270451</td>\n",
              "      <td>-0.792126</td>\n",
              "      <td>-0.268157</td>\n",
              "      <td>-0.217489</td>\n",
              "      <td>0.949426</td>\n",
              "      <td>-0.082400</td>\n",
              "      <td>-0.094926</td>\n",
              "      <td>-0.327208</td>\n",
              "      <td>-0.128397</td>\n",
              "      <td>-0.188419</td>\n",
              "      <td>-0.249986</td>\n",
              "      <td>2.259206</td>\n",
              "      <td>-0.218144</td>\n",
              "      <td>-0.371676</td>\n",
              "      <td>-0.202020</td>\n",
              "      <td>-0.132065</td>\n",
              "    </tr>\n",
              "    <tr>\n",
              "      <th>1</th>\n",
              "      <td>-0.059180</td>\n",
              "      <td>-0.254358</td>\n",
              "      <td>-0.351217</td>\n",
              "      <td>-0.251805</td>\n",
              "      <td>-0.270451</td>\n",
              "      <td>-0.340125</td>\n",
              "      <td>-0.217362</td>\n",
              "      <td>-0.217489</td>\n",
              "      <td>-0.568423</td>\n",
              "      <td>0.018570</td>\n",
              "      <td>-0.094926</td>\n",
              "      <td>2.993517</td>\n",
              "      <td>-0.128397</td>\n",
              "      <td>-0.188419</td>\n",
              "      <td>-0.249986</td>\n",
              "      <td>-0.352572</td>\n",
              "      <td>-0.334435</td>\n",
              "      <td>0.633187</td>\n",
              "      <td>-0.202020</td>\n",
              "      <td>-0.132065</td>\n",
              "    </tr>\n",
              "    <tr>\n",
              "      <th>2</th>\n",
              "      <td>-0.059180</td>\n",
              "      <td>-0.366106</td>\n",
              "      <td>-0.281529</td>\n",
              "      <td>-0.258679</td>\n",
              "      <td>-0.270451</td>\n",
              "      <td>-0.792126</td>\n",
              "      <td>-0.374632</td>\n",
              "      <td>-0.217489</td>\n",
              "      <td>0.989092</td>\n",
              "      <td>-0.203527</td>\n",
              "      <td>-0.094926</td>\n",
              "      <td>-0.334055</td>\n",
              "      <td>-0.128397</td>\n",
              "      <td>-0.188419</td>\n",
              "      <td>-0.249986</td>\n",
              "      <td>-0.442633</td>\n",
              "      <td>-0.334435</td>\n",
              "      <td>-0.027251</td>\n",
              "      <td>-0.202020</td>\n",
              "      <td>-0.132065</td>\n",
              "    </tr>\n",
              "    <tr>\n",
              "      <th>3</th>\n",
              "      <td>-0.059180</td>\n",
              "      <td>0.158378</td>\n",
              "      <td>0.887220</td>\n",
              "      <td>3.865793</td>\n",
              "      <td>1.584598</td>\n",
              "      <td>0.151158</td>\n",
              "      <td>-0.285292</td>\n",
              "      <td>-0.217489</td>\n",
              "      <td>-0.651500</td>\n",
              "      <td>0.725444</td>\n",
              "      <td>-0.094926</td>\n",
              "      <td>-0.257319</td>\n",
              "      <td>-0.128397</td>\n",
              "      <td>-0.188419</td>\n",
              "      <td>-0.178704</td>\n",
              "      <td>-0.312356</td>\n",
              "      <td>0.271931</td>\n",
              "      <td>-0.464772</td>\n",
              "      <td>-0.180418</td>\n",
              "      <td>-0.132065</td>\n",
              "    </tr>\n",
              "    <tr>\n",
              "      <th>4</th>\n",
              "      <td>-0.059180</td>\n",
              "      <td>2.080702</td>\n",
              "      <td>-0.223670</td>\n",
              "      <td>-0.219915</td>\n",
              "      <td>-0.270451</td>\n",
              "      <td>-0.340280</td>\n",
              "      <td>1.645113</td>\n",
              "      <td>-0.217489</td>\n",
              "      <td>-0.189574</td>\n",
              "      <td>-0.211648</td>\n",
              "      <td>-0.094926</td>\n",
              "      <td>-0.271507</td>\n",
              "      <td>-0.128397</td>\n",
              "      <td>-0.188419</td>\n",
              "      <td>-0.249986</td>\n",
              "      <td>-0.386768</td>\n",
              "      <td>-0.284441</td>\n",
              "      <td>0.971651</td>\n",
              "      <td>-0.202020</td>\n",
              "      <td>-0.132065</td>\n",
              "    </tr>\n",
              "    <tr>\n",
              "      <th>5</th>\n",
              "      <td>-0.059180</td>\n",
              "      <td>0.402104</td>\n",
              "      <td>0.034527</td>\n",
              "      <td>-0.200424</td>\n",
              "      <td>-0.259242</td>\n",
              "      <td>-0.467113</td>\n",
              "      <td>-0.297244</td>\n",
              "      <td>-0.190284</td>\n",
              "      <td>0.747226</td>\n",
              "      <td>-0.242736</td>\n",
              "      <td>-0.094926</td>\n",
              "      <td>-0.305855</td>\n",
              "      <td>-0.128397</td>\n",
              "      <td>-0.188419</td>\n",
              "      <td>-0.213968</td>\n",
              "      <td>-0.053385</td>\n",
              "      <td>-0.231129</td>\n",
              "      <td>-0.198602</td>\n",
              "      <td>4.950012</td>\n",
              "      <td>-0.132065</td>\n",
              "    </tr>\n",
              "    <tr>\n",
              "      <th>6</th>\n",
              "      <td>-0.059180</td>\n",
              "      <td>1.504018</td>\n",
              "      <td>2.578942</td>\n",
              "      <td>-0.258679</td>\n",
              "      <td>-0.270451</td>\n",
              "      <td>-0.362879</td>\n",
              "      <td>-0.362283</td>\n",
              "      <td>-0.217489</td>\n",
              "      <td>-0.516800</td>\n",
              "      <td>0.804508</td>\n",
              "      <td>-0.094926</td>\n",
              "      <td>-0.253060</td>\n",
              "      <td>-0.128397</td>\n",
              "      <td>-0.188419</td>\n",
              "      <td>-0.215502</td>\n",
              "      <td>-0.267261</td>\n",
              "      <td>0.980551</td>\n",
              "      <td>0.134046</td>\n",
              "      <td>-0.202020</td>\n",
              "      <td>-0.132065</td>\n",
              "    </tr>\n",
              "    <tr>\n",
              "      <th>7</th>\n",
              "      <td>-0.059180</td>\n",
              "      <td>0.128485</td>\n",
              "      <td>0.249380</td>\n",
              "      <td>-0.183231</td>\n",
              "      <td>-0.125281</td>\n",
              "      <td>-0.303544</td>\n",
              "      <td>-0.189027</td>\n",
              "      <td>-0.188127</td>\n",
              "      <td>-0.189021</td>\n",
              "      <td>-0.159926</td>\n",
              "      <td>-0.094926</td>\n",
              "      <td>-0.192025</td>\n",
              "      <td>-0.128397</td>\n",
              "      <td>0.146687</td>\n",
              "      <td>-0.172239</td>\n",
              "      <td>-0.113141</td>\n",
              "      <td>-0.192533</td>\n",
              "      <td>-0.244737</td>\n",
              "      <td>0.112129</td>\n",
              "      <td>7.572010</td>\n",
              "    </tr>\n",
              "    <tr>\n",
              "      <th>8</th>\n",
              "      <td>-0.059180</td>\n",
              "      <td>-0.456038</td>\n",
              "      <td>-0.357392</td>\n",
              "      <td>-0.238898</td>\n",
              "      <td>-0.260936</td>\n",
              "      <td>-0.599974</td>\n",
              "      <td>-0.338134</td>\n",
              "      <td>4.597924</td>\n",
              "      <td>-0.808616</td>\n",
              "      <td>-0.277127</td>\n",
              "      <td>-0.094926</td>\n",
              "      <td>-0.318096</td>\n",
              "      <td>-0.128397</td>\n",
              "      <td>-0.188419</td>\n",
              "      <td>-0.229602</td>\n",
              "      <td>-0.429675</td>\n",
              "      <td>-0.334435</td>\n",
              "      <td>-0.479140</td>\n",
              "      <td>-0.078470</td>\n",
              "      <td>-0.132065</td>\n",
              "    </tr>\n",
              "    <tr>\n",
              "      <th>9</th>\n",
              "      <td>-0.059180</td>\n",
              "      <td>-0.333405</td>\n",
              "      <td>-0.317512</td>\n",
              "      <td>-0.163864</td>\n",
              "      <td>-0.270451</td>\n",
              "      <td>-0.744895</td>\n",
              "      <td>1.444723</td>\n",
              "      <td>-0.217489</td>\n",
              "      <td>0.255531</td>\n",
              "      <td>-0.252433</td>\n",
              "      <td>10.534563</td>\n",
              "      <td>-0.257559</td>\n",
              "      <td>-0.128397</td>\n",
              "      <td>-0.188419</td>\n",
              "      <td>0.922484</td>\n",
              "      <td>-0.194188</td>\n",
              "      <td>-0.219795</td>\n",
              "      <td>0.699553</td>\n",
              "      <td>-0.202020</td>\n",
              "      <td>-0.043513</td>\n",
              "    </tr>\n",
              "    <tr>\n",
              "      <th>10</th>\n",
              "      <td>-0.059180</td>\n",
              "      <td>0.315476</td>\n",
              "      <td>1.424370</td>\n",
              "      <td>1.524876</td>\n",
              "      <td>1.284566</td>\n",
              "      <td>-0.153550</td>\n",
              "      <td>-0.333498</td>\n",
              "      <td>0.303096</td>\n",
              "      <td>-0.546954</td>\n",
              "      <td>1.897357</td>\n",
              "      <td>-0.094926</td>\n",
              "      <td>-0.199154</td>\n",
              "      <td>7.788339</td>\n",
              "      <td>0.405715</td>\n",
              "      <td>-0.077681</td>\n",
              "      <td>-0.150543</td>\n",
              "      <td>-0.154729</td>\n",
              "      <td>-0.354673</td>\n",
              "      <td>-0.132398</td>\n",
              "      <td>-0.132065</td>\n",
              "    </tr>\n",
              "    <tr>\n",
              "      <th>11</th>\n",
              "      <td>-0.059180</td>\n",
              "      <td>-0.313565</td>\n",
              "      <td>-0.297194</td>\n",
              "      <td>-0.258679</td>\n",
              "      <td>-0.270451</td>\n",
              "      <td>1.262425</td>\n",
              "      <td>-0.374632</td>\n",
              "      <td>-0.217489</td>\n",
              "      <td>-0.298180</td>\n",
              "      <td>-0.175732</td>\n",
              "      <td>-0.094926</td>\n",
              "      <td>-0.334055</td>\n",
              "      <td>-0.128397</td>\n",
              "      <td>-0.188419</td>\n",
              "      <td>-0.249986</td>\n",
              "      <td>-0.442633</td>\n",
              "      <td>-0.334435</td>\n",
              "      <td>-0.447314</td>\n",
              "      <td>-0.202020</td>\n",
              "      <td>-0.132065</td>\n",
              "    </tr>\n",
              "    <tr>\n",
              "      <th>12</th>\n",
              "      <td>-0.059180</td>\n",
              "      <td>1.653817</td>\n",
              "      <td>0.854455</td>\n",
              "      <td>-0.160477</td>\n",
              "      <td>-0.223213</td>\n",
              "      <td>-0.694291</td>\n",
              "      <td>-0.012260</td>\n",
              "      <td>-0.217489</td>\n",
              "      <td>-0.445366</td>\n",
              "      <td>-0.163138</td>\n",
              "      <td>-0.094926</td>\n",
              "      <td>0.022470</td>\n",
              "      <td>7.788339</td>\n",
              "      <td>-0.188419</td>\n",
              "      <td>-0.098193</td>\n",
              "      <td>-0.410469</td>\n",
              "      <td>1.961091</td>\n",
              "      <td>0.441267</td>\n",
              "      <td>-0.018019</td>\n",
              "      <td>0.051365</td>\n",
              "    </tr>\n",
              "    <tr>\n",
              "      <th>13</th>\n",
              "      <td>-0.059180</td>\n",
              "      <td>-0.428898</td>\n",
              "      <td>-0.309821</td>\n",
              "      <td>-0.258679</td>\n",
              "      <td>-0.270451</td>\n",
              "      <td>1.262425</td>\n",
              "      <td>-0.300889</td>\n",
              "      <td>-0.217489</td>\n",
              "      <td>-0.072007</td>\n",
              "      <td>-0.076478</td>\n",
              "      <td>-0.094926</td>\n",
              "      <td>-0.334055</td>\n",
              "      <td>-0.128397</td>\n",
              "      <td>-0.188419</td>\n",
              "      <td>-0.249986</td>\n",
              "      <td>2.259206</td>\n",
              "      <td>-0.298639</td>\n",
              "      <td>-0.464052</td>\n",
              "      <td>-0.202020</td>\n",
              "      <td>-0.132065</td>\n",
              "    </tr>\n",
              "    <tr>\n",
              "      <th>14</th>\n",
              "      <td>16.897616</td>\n",
              "      <td>-0.480607</td>\n",
              "      <td>-0.385949</td>\n",
              "      <td>-0.258679</td>\n",
              "      <td>-0.270451</td>\n",
              "      <td>-0.792126</td>\n",
              "      <td>-0.374632</td>\n",
              "      <td>-0.217489</td>\n",
              "      <td>-0.900247</td>\n",
              "      <td>-0.294810</td>\n",
              "      <td>-0.094926</td>\n",
              "      <td>-0.334055</td>\n",
              "      <td>-0.128397</td>\n",
              "      <td>-0.188419</td>\n",
              "      <td>-0.249986</td>\n",
              "      <td>-0.442633</td>\n",
              "      <td>-0.334435</td>\n",
              "      <td>-0.491259</td>\n",
              "      <td>-0.202020</td>\n",
              "      <td>-0.132065</td>\n",
              "    </tr>\n",
              "    <tr>\n",
              "      <th>15</th>\n",
              "      <td>-0.059180</td>\n",
              "      <td>-0.147838</td>\n",
              "      <td>-0.262885</td>\n",
              "      <td>-0.185608</td>\n",
              "      <td>-0.239207</td>\n",
              "      <td>-0.529241</td>\n",
              "      <td>0.488212</td>\n",
              "      <td>-0.217489</td>\n",
              "      <td>0.140909</td>\n",
              "      <td>-0.019024</td>\n",
              "      <td>-0.094926</td>\n",
              "      <td>0.524039</td>\n",
              "      <td>-0.128397</td>\n",
              "      <td>-0.188419</td>\n",
              "      <td>4.000218</td>\n",
              "      <td>-0.144793</td>\n",
              "      <td>0.064774</td>\n",
              "      <td>1.170092</td>\n",
              "      <td>-0.202020</td>\n",
              "      <td>-0.132065</td>\n",
              "    </tr>\n",
              "    <tr>\n",
              "      <th>16</th>\n",
              "      <td>-0.059180</td>\n",
              "      <td>-0.440080</td>\n",
              "      <td>-0.027959</td>\n",
              "      <td>0.563605</td>\n",
              "      <td>0.721543</td>\n",
              "      <td>0.248153</td>\n",
              "      <td>-0.297570</td>\n",
              "      <td>-0.034626</td>\n",
              "      <td>-0.181104</td>\n",
              "      <td>0.265214</td>\n",
              "      <td>-0.094926</td>\n",
              "      <td>-0.260343</td>\n",
              "      <td>-0.128397</td>\n",
              "      <td>5.307322</td>\n",
              "      <td>-0.182736</td>\n",
              "      <td>0.326878</td>\n",
              "      <td>-0.260790</td>\n",
              "      <td>-0.467270</td>\n",
              "      <td>-0.169412</td>\n",
              "      <td>-0.132065</td>\n",
              "    </tr>\n",
              "    <tr>\n",
              "      <th>17</th>\n",
              "      <td>-0.059180</td>\n",
              "      <td>-0.480607</td>\n",
              "      <td>-0.304706</td>\n",
              "      <td>-0.250639</td>\n",
              "      <td>-0.270451</td>\n",
              "      <td>-0.115286</td>\n",
              "      <td>2.669289</td>\n",
              "      <td>-0.217489</td>\n",
              "      <td>0.401254</td>\n",
              "      <td>-0.266063</td>\n",
              "      <td>-0.094926</td>\n",
              "      <td>-0.327569</td>\n",
              "      <td>-0.128397</td>\n",
              "      <td>-0.188419</td>\n",
              "      <td>-0.249986</td>\n",
              "      <td>-0.353099</td>\n",
              "      <td>-0.308512</td>\n",
              "      <td>0.567750</td>\n",
              "      <td>-0.202020</td>\n",
              "      <td>-0.132065</td>\n",
              "    </tr>\n",
              "    <tr>\n",
              "      <th>18</th>\n",
              "      <td>-0.059180</td>\n",
              "      <td>-0.191556</td>\n",
              "      <td>0.911226</td>\n",
              "      <td>-0.258679</td>\n",
              "      <td>3.697524</td>\n",
              "      <td>0.392944</td>\n",
              "      <td>-0.346005</td>\n",
              "      <td>-0.217489</td>\n",
              "      <td>-0.465254</td>\n",
              "      <td>0.860935</td>\n",
              "      <td>-0.094926</td>\n",
              "      <td>-0.313193</td>\n",
              "      <td>-0.128397</td>\n",
              "      <td>-0.188419</td>\n",
              "      <td>-0.116751</td>\n",
              "      <td>-0.307118</td>\n",
              "      <td>0.009485</td>\n",
              "      <td>-0.475417</td>\n",
              "      <td>-0.202020</td>\n",
              "      <td>-0.132065</td>\n",
              "    </tr>\n",
              "    <tr>\n",
              "      <th>19</th>\n",
              "      <td>-0.059180</td>\n",
              "      <td>0.464446</td>\n",
              "      <td>-0.367225</td>\n",
              "      <td>-0.232739</td>\n",
              "      <td>-0.262133</td>\n",
              "      <td>-0.400168</td>\n",
              "      <td>-0.317199</td>\n",
              "      <td>-0.217489</td>\n",
              "      <td>-0.503939</td>\n",
              "      <td>-0.093851</td>\n",
              "      <td>-0.094926</td>\n",
              "      <td>0.900704</td>\n",
              "      <td>-0.128397</td>\n",
              "      <td>-0.188419</td>\n",
              "      <td>-0.249986</td>\n",
              "      <td>-0.374663</td>\n",
              "      <td>2.990120</td>\n",
              "      <td>0.446375</td>\n",
              "      <td>-0.202020</td>\n",
              "      <td>-0.132065</td>\n",
              "    </tr>\n",
              "  </tbody>\n",
              "</table>\n",
              "</div>"
            ],
            "text/plain": [
              "    (no genres listed)    Action  Adventure  ...  Thriller       War   Western\n",
              "0            -0.059180 -0.422635  -0.214436  ... -0.371676 -0.202020 -0.132065\n",
              "1            -0.059180 -0.254358  -0.351217  ...  0.633187 -0.202020 -0.132065\n",
              "2            -0.059180 -0.366106  -0.281529  ... -0.027251 -0.202020 -0.132065\n",
              "3            -0.059180  0.158378   0.887220  ... -0.464772 -0.180418 -0.132065\n",
              "4            -0.059180  2.080702  -0.223670  ...  0.971651 -0.202020 -0.132065\n",
              "5            -0.059180  0.402104   0.034527  ... -0.198602  4.950012 -0.132065\n",
              "6            -0.059180  1.504018   2.578942  ...  0.134046 -0.202020 -0.132065\n",
              "7            -0.059180  0.128485   0.249380  ... -0.244737  0.112129  7.572010\n",
              "8            -0.059180 -0.456038  -0.357392  ... -0.479140 -0.078470 -0.132065\n",
              "9            -0.059180 -0.333405  -0.317512  ...  0.699553 -0.202020 -0.043513\n",
              "10           -0.059180  0.315476   1.424370  ... -0.354673 -0.132398 -0.132065\n",
              "11           -0.059180 -0.313565  -0.297194  ... -0.447314 -0.202020 -0.132065\n",
              "12           -0.059180  1.653817   0.854455  ...  0.441267 -0.018019  0.051365\n",
              "13           -0.059180 -0.428898  -0.309821  ... -0.464052 -0.202020 -0.132065\n",
              "14           16.897616 -0.480607  -0.385949  ... -0.491259 -0.202020 -0.132065\n",
              "15           -0.059180 -0.147838  -0.262885  ...  1.170092 -0.202020 -0.132065\n",
              "16           -0.059180 -0.440080  -0.027959  ... -0.467270 -0.169412 -0.132065\n",
              "17           -0.059180 -0.480607  -0.304706  ...  0.567750 -0.202020 -0.132065\n",
              "18           -0.059180 -0.191556   0.911226  ... -0.475417 -0.202020 -0.132065\n",
              "19           -0.059180  0.464446  -0.367225  ...  0.446375 -0.202020 -0.132065\n",
              "\n",
              "[20 rows x 20 columns]"
            ]
          },
          "metadata": {
            "tags": []
          },
          "execution_count": 62
        }
      ]
    },
    {
      "cell_type": "code",
      "metadata": {
        "id": "2qRaKpbGNDU1",
        "colab_type": "code",
        "outputId": "990d531a-3950-47f1-ee3b-22d4bf301738",
        "colab": {
          "base_uri": "https://localhost:8080/",
          "height": 1000
        }
      },
      "source": [
        "grupos.transpose().plot.bar(subplots=True,figsize=(25,25), sharex=False)"
      ],
      "execution_count": 0,
      "outputs": [
        {
          "output_type": "execute_result",
          "data": {
            "text/plain": [
              "array([<matplotlib.axes._subplots.AxesSubplot object at 0x7f11b90f0518>,\n",
              "       <matplotlib.axes._subplots.AxesSubplot object at 0x7f11b90ef518>,\n",
              "       <matplotlib.axes._subplots.AxesSubplot object at 0x7f11b9242a58>,\n",
              "       <matplotlib.axes._subplots.AxesSubplot object at 0x7f11b91b2f98>,\n",
              "       <matplotlib.axes._subplots.AxesSubplot object at 0x7f11b91f4518>,\n",
              "       <matplotlib.axes._subplots.AxesSubplot object at 0x7f11b8a22a58>,\n",
              "       <matplotlib.axes._subplots.AxesSubplot object at 0x7f11b9091f98>,\n",
              "       <matplotlib.axes._subplots.AxesSubplot object at 0x7f11b90cb550>,\n",
              "       <matplotlib.axes._subplots.AxesSubplot object at 0x7f11b90cb588>,\n",
              "       <matplotlib.axes._subplots.AxesSubplot object at 0x7f11b9028f98>,\n",
              "       <matplotlib.axes._subplots.AxesSubplot object at 0x7f11b8fe1518>,\n",
              "       <matplotlib.axes._subplots.AxesSubplot object at 0x7f11b8f90a58>,\n",
              "       <matplotlib.axes._subplots.AxesSubplot object at 0x7f11b8fc4f98>,\n",
              "       <matplotlib.axes._subplots.AxesSubplot object at 0x7f11b8f7e7b8>,\n",
              "       <matplotlib.axes._subplots.AxesSubplot object at 0x7f11b8f38198>,\n",
              "       <matplotlib.axes._subplots.AxesSubplot object at 0x7f11b8ee5b38>,\n",
              "       <matplotlib.axes._subplots.AxesSubplot object at 0x7f11b8ea1518>,\n",
              "       <matplotlib.axes._subplots.AxesSubplot object at 0x7f11b8e50eb8>,\n",
              "       <matplotlib.axes._subplots.AxesSubplot object at 0x7f11b8e88898>,\n",
              "       <matplotlib.axes._subplots.AxesSubplot object at 0x7f11b8e45278>],\n",
              "      dtype=object)"
            ]
          },
          "metadata": {
            "tags": []
          },
          "execution_count": 63
        },
        {
          "output_type": "display_data",
          "data": {
            "image/png": "[encoded data removed]",
            "text/plain": [
              "<Figure size 1800x1800 with 20 Axes>"
            ]
          },
          "metadata": {
            "tags": []
          }
        }
      ]
    },
    {
      "cell_type": "code",
      "metadata": {
        "id": "JXzQN6UeNjFd",
        "colab_type": "code",
        "outputId": "befc2d30-d7e1-454c-c471-35289f66758f",
        "colab": {
          "base_uri": "https://localhost:8080/",
          "height": 207
        }
      },
      "source": [
        "from sklearn.manifold import TSNE\n",
        "\n",
        "tsne = TSNE()\n",
        "\n",
        "view = tsne.fit_transform(generos_escalados)\n",
        "view"
      ],
      "execution_count": 0,
      "outputs": [
        {
          "output_type": "error",
          "ename": "AttributeError",
          "evalue": "ignored",
          "traceback": [
            "\u001b[0;31m---------------------------------------------------------------------------\u001b[0m",
            "\u001b[0;31mAttributeError\u001b[0m                            Traceback (most recent call last)",
            "\u001b[0;32m<ipython-input-64-a80fbf631108>\u001b[0m in \u001b[0;36m<module>\u001b[0;34m()\u001b[0m\n\u001b[1;32m      4\u001b[0m \u001b[0;34m\u001b[0m\u001b[0m\n\u001b[1;32m      5\u001b[0m \u001b[0mview\u001b[0m \u001b[0;34m=\u001b[0m \u001b[0mtsne\u001b[0m\u001b[0;34m.\u001b[0m\u001b[0mfit_transform\u001b[0m\u001b[0;34m(\u001b[0m\u001b[0mgeneros_escalados\u001b[0m\u001b[0;34m)\u001b[0m\u001b[0;34m\u001b[0m\u001b[0;34m\u001b[0m\u001b[0m\n\u001b[0;32m----> 6\u001b[0;31m \u001b[0mview\u001b[0m\u001b[0;34m.\u001b[0m\u001b[0mtype\u001b[0m\u001b[0;34m\u001b[0m\u001b[0;34m\u001b[0m\u001b[0m\n\u001b[0m",
            "\u001b[0;31mAttributeError\u001b[0m: 'numpy.ndarray' object has no attribute 'type'"
          ]
        }
      ]
    },
    {
      "cell_type": "code",
      "metadata": {
        "id": "h5JTmRRDPA5C",
        "colab_type": "code",
        "outputId": "a40e428d-894d-4b66-95e1-f8a09b7225e5",
        "colab": {
          "base_uri": "https://localhost:8080/",
          "height": 775
        }
      },
      "source": [
        "import seaborn as sns\n",
        "\n",
        "\n",
        "sns.set(rc={'figure.figsize': (13,13)})\n",
        "\n",
        "sns.scatterplot(x=view[:,0], y=view[:, 1], hue = modelo.labels_, palette=sns.color_palette(palette=\"Set2\", n_colors=20))\n"
      ],
      "execution_count": 0,
      "outputs": [
        {
          "output_type": "execute_result",
          "data": {
            "text/plain": [
              "<matplotlib.axes._subplots.AxesSubplot at 0x7f11b865fa20>"
            ]
          },
          "metadata": {
            "tags": []
          },
          "execution_count": 65
        },
        {
          "output_type": "display_data",
          "data": {
            "image/png": "[encoded data removed]",
            "text/plain": [
              "<Figure size 936x936 with 1 Axes>"
            ]
          },
          "metadata": {
            "tags": []
          }
        }
      ]
    },
    {
      "cell_type": "code",
      "metadata": {
        "id": "1QTdHPY8RnRD",
        "colab_type": "code",
        "colab": {}
      },
      "source": [
        "def KMeans_func(numero_clusters, generos):\n",
        "  modelo = KMeans(n_clusters=numero_clusters)\n",
        "  modelo.fit(generos)\n",
        "  return [numero_clusters, modelo.inertia_]\n"
      ],
      "execution_count": 0,
      "outputs": []
    },
    {
      "cell_type": "code",
      "metadata": {
        "id": "TweuwiZURzlP",
        "colab_type": "code",
        "outputId": "d449a471-8aba-4505-a6e7-7f7c9d8f9452",
        "colab": {
          "base_uri": "https://localhost:8080/",
          "height": 35
        }
      },
      "source": [
        "KMeans_func(20, generos_escalados)\n"
      ],
      "execution_count": 0,
      "outputs": [
        {
          "output_type": "execute_result",
          "data": {
            "text/plain": [
              "[20, 54614.368525813734]"
            ]
          },
          "metadata": {
            "tags": []
          },
          "execution_count": 67
        }
      ]
    },
    {
      "cell_type": "code",
      "metadata": {
        "id": "FDUbjtrmSNth",
        "colab_type": "code",
        "outputId": "51b2af1e-8155-41f2-feee-4796445e076b",
        "colab": {
          "base_uri": "https://localhost:8080/",
          "height": 35
        }
      },
      "source": [
        "KMeans_func(3, generos_escalados)"
      ],
      "execution_count": 0,
      "outputs": [
        {
          "output_type": "execute_result",
          "data": {
            "text/plain": [
              "[3, 167801.11407948003]"
            ]
          },
          "metadata": {
            "tags": []
          },
          "execution_count": 68
        }
      ]
    },
    {
      "cell_type": "code",
      "metadata": {
        "id": "IAVKwsfISe2S",
        "colab_type": "code",
        "outputId": "3109ee63-c1b0-4668-e4fb-dd4c057a484b",
        "colab": {
          "base_uri": "https://localhost:8080/",
          "height": 745
        }
      },
      "source": [
        "resultado = [KMeans_func(numero_grupos, generos_escalados) for numero_grupos in range (1,41)]\n",
        "resultado"
      ],
      "execution_count": 0,
      "outputs": [
        {
          "output_type": "execute_result",
          "data": {
            "text/plain": [
              "[[1, 194840.0],\n",
              " [2, 179483.94029403635],\n",
              " [3, 169432.72706296918],\n",
              " [4, 156277.63759131287],\n",
              " [5, 148081.4339020885],\n",
              " [6, 138566.5500924525],\n",
              " [7, 128621.56862899152],\n",
              " [8, 120224.0109735993],\n",
              " [9, 110541.16143706934],\n",
              " [10, 100536.8910743094],\n",
              " [11, 94955.76668163597],\n",
              " [12, 87229.73771778573],\n",
              " [13, 80289.92182717237],\n",
              " [14, 74087.66444978832],\n",
              " [15, 67357.82530527835],\n",
              " [16, 65710.07039922803],\n",
              " [17, 61576.085759248024],\n",
              " [18, 59357.111148614975],\n",
              " [19, 57276.776424520314],\n",
              " [20, 55851.59754281433],\n",
              " [21, 53647.513298687954],\n",
              " [22, 51486.51316665053],\n",
              " [23, 50088.784335506796],\n",
              " [24, 49354.3068720665],\n",
              " [25, 47702.75919974574],\n",
              " [26, 47080.320630354334],\n",
              " [27, 45711.75809045224],\n",
              " [28, 44904.653271077696],\n",
              " [29, 44121.25790707824],\n",
              " [30, 43107.46334211927],\n",
              " [31, 42097.94665934029],\n",
              " [32, 41570.68025210056],\n",
              " [33, 40099.26559625329],\n",
              " [34, 39868.66468349818],\n",
              " [35, 38708.532485843614],\n",
              " [36, 37746.00327861919],\n",
              " [37, 36563.81786165363],\n",
              " [38, 37213.43122526372],\n",
              " [39, 35957.00741572103],\n",
              " [40, 35390.47474393469]]"
            ]
          },
          "metadata": {
            "tags": []
          },
          "execution_count": 78
        }
      ]
    },
    {
      "cell_type": "code",
      "metadata": {
        "id": "6igcVdAhU00W",
        "colab_type": "code",
        "outputId": "b59488d5-1210-4ce7-96b4-da2d4860a65d",
        "colab": {
          "base_uri": "https://localhost:8080/",
          "height": 1000
        }
      },
      "source": [
        "resultado = pd.DataFrame(resultado, columns=['grupos', 'inertia'])\n",
        "\n",
        "resultado"
      ],
      "execution_count": 0,
      "outputs": [
        {
          "output_type": "execute_result",
          "data": {
            "text/html": [
              "<div>\n",
              "<style scoped>\n",
              "    .dataframe tbody tr th:only-of-type {\n",
              "        vertical-align: middle;\n",
              "    }\n",
              "\n",
              "    .dataframe tbody tr th {\n",
              "        vertical-align: top;\n",
              "    }\n",
              "\n",
              "    .dataframe thead th {\n",
              "        text-align: right;\n",
              "    }\n",
              "</style>\n",
              "<table border=\"1\" class=\"dataframe\">\n",
              "  <thead>\n",
              "    <tr style=\"text-align: right;\">\n",
              "      <th></th>\n",
              "      <th>grupos</th>\n",
              "      <th>inertia</th>\n",
              "    </tr>\n",
              "  </thead>\n",
              "  <tbody>\n",
              "    <tr>\n",
              "      <th>0</th>\n",
              "      <td>1</td>\n",
              "      <td>194840.000000</td>\n",
              "    </tr>\n",
              "    <tr>\n",
              "      <th>1</th>\n",
              "      <td>2</td>\n",
              "      <td>179483.940294</td>\n",
              "    </tr>\n",
              "    <tr>\n",
              "      <th>2</th>\n",
              "      <td>3</td>\n",
              "      <td>169432.727063</td>\n",
              "    </tr>\n",
              "    <tr>\n",
              "      <th>3</th>\n",
              "      <td>4</td>\n",
              "      <td>156277.637591</td>\n",
              "    </tr>\n",
              "    <tr>\n",
              "      <th>4</th>\n",
              "      <td>5</td>\n",
              "      <td>148081.433902</td>\n",
              "    </tr>\n",
              "    <tr>\n",
              "      <th>5</th>\n",
              "      <td>6</td>\n",
              "      <td>138566.550092</td>\n",
              "    </tr>\n",
              "    <tr>\n",
              "      <th>6</th>\n",
              "      <td>7</td>\n",
              "      <td>128621.568629</td>\n",
              "    </tr>\n",
              "    <tr>\n",
              "      <th>7</th>\n",
              "      <td>8</td>\n",
              "      <td>120224.010974</td>\n",
              "    </tr>\n",
              "    <tr>\n",
              "      <th>8</th>\n",
              "      <td>9</td>\n",
              "      <td>110541.161437</td>\n",
              "    </tr>\n",
              "    <tr>\n",
              "      <th>9</th>\n",
              "      <td>10</td>\n",
              "      <td>100536.891074</td>\n",
              "    </tr>\n",
              "    <tr>\n",
              "      <th>10</th>\n",
              "      <td>11</td>\n",
              "      <td>94955.766682</td>\n",
              "    </tr>\n",
              "    <tr>\n",
              "      <th>11</th>\n",
              "      <td>12</td>\n",
              "      <td>87229.737718</td>\n",
              "    </tr>\n",
              "    <tr>\n",
              "      <th>12</th>\n",
              "      <td>13</td>\n",
              "      <td>80289.921827</td>\n",
              "    </tr>\n",
              "    <tr>\n",
              "      <th>13</th>\n",
              "      <td>14</td>\n",
              "      <td>74087.664450</td>\n",
              "    </tr>\n",
              "    <tr>\n",
              "      <th>14</th>\n",
              "      <td>15</td>\n",
              "      <td>67357.825305</td>\n",
              "    </tr>\n",
              "    <tr>\n",
              "      <th>15</th>\n",
              "      <td>16</td>\n",
              "      <td>65710.070399</td>\n",
              "    </tr>\n",
              "    <tr>\n",
              "      <th>16</th>\n",
              "      <td>17</td>\n",
              "      <td>61576.085759</td>\n",
              "    </tr>\n",
              "    <tr>\n",
              "      <th>17</th>\n",
              "      <td>18</td>\n",
              "      <td>59357.111149</td>\n",
              "    </tr>\n",
              "    <tr>\n",
              "      <th>18</th>\n",
              "      <td>19</td>\n",
              "      <td>57276.776425</td>\n",
              "    </tr>\n",
              "    <tr>\n",
              "      <th>19</th>\n",
              "      <td>20</td>\n",
              "      <td>55851.597543</td>\n",
              "    </tr>\n",
              "    <tr>\n",
              "      <th>20</th>\n",
              "      <td>21</td>\n",
              "      <td>53647.513299</td>\n",
              "    </tr>\n",
              "    <tr>\n",
              "      <th>21</th>\n",
              "      <td>22</td>\n",
              "      <td>51486.513167</td>\n",
              "    </tr>\n",
              "    <tr>\n",
              "      <th>22</th>\n",
              "      <td>23</td>\n",
              "      <td>50088.784336</td>\n",
              "    </tr>\n",
              "    <tr>\n",
              "      <th>23</th>\n",
              "      <td>24</td>\n",
              "      <td>49354.306872</td>\n",
              "    </tr>\n",
              "    <tr>\n",
              "      <th>24</th>\n",
              "      <td>25</td>\n",
              "      <td>47702.759200</td>\n",
              "    </tr>\n",
              "    <tr>\n",
              "      <th>25</th>\n",
              "      <td>26</td>\n",
              "      <td>47080.320630</td>\n",
              "    </tr>\n",
              "    <tr>\n",
              "      <th>26</th>\n",
              "      <td>27</td>\n",
              "      <td>45711.758090</td>\n",
              "    </tr>\n",
              "    <tr>\n",
              "      <th>27</th>\n",
              "      <td>28</td>\n",
              "      <td>44904.653271</td>\n",
              "    </tr>\n",
              "    <tr>\n",
              "      <th>28</th>\n",
              "      <td>29</td>\n",
              "      <td>44121.257907</td>\n",
              "    </tr>\n",
              "    <tr>\n",
              "      <th>29</th>\n",
              "      <td>30</td>\n",
              "      <td>43107.463342</td>\n",
              "    </tr>\n",
              "    <tr>\n",
              "      <th>30</th>\n",
              "      <td>31</td>\n",
              "      <td>42097.946659</td>\n",
              "    </tr>\n",
              "    <tr>\n",
              "      <th>31</th>\n",
              "      <td>32</td>\n",
              "      <td>41570.680252</td>\n",
              "    </tr>\n",
              "    <tr>\n",
              "      <th>32</th>\n",
              "      <td>33</td>\n",
              "      <td>40099.265596</td>\n",
              "    </tr>\n",
              "    <tr>\n",
              "      <th>33</th>\n",
              "      <td>34</td>\n",
              "      <td>39868.664683</td>\n",
              "    </tr>\n",
              "    <tr>\n",
              "      <th>34</th>\n",
              "      <td>35</td>\n",
              "      <td>38708.532486</td>\n",
              "    </tr>\n",
              "    <tr>\n",
              "      <th>35</th>\n",
              "      <td>36</td>\n",
              "      <td>37746.003279</td>\n",
              "    </tr>\n",
              "    <tr>\n",
              "      <th>36</th>\n",
              "      <td>37</td>\n",
              "      <td>36563.817862</td>\n",
              "    </tr>\n",
              "    <tr>\n",
              "      <th>37</th>\n",
              "      <td>38</td>\n",
              "      <td>37213.431225</td>\n",
              "    </tr>\n",
              "    <tr>\n",
              "      <th>38</th>\n",
              "      <td>39</td>\n",
              "      <td>35957.007416</td>\n",
              "    </tr>\n",
              "    <tr>\n",
              "      <th>39</th>\n",
              "      <td>40</td>\n",
              "      <td>35390.474744</td>\n",
              "    </tr>\n",
              "  </tbody>\n",
              "</table>\n",
              "</div>"
            ],
            "text/plain": [
              "    grupos        inertia\n",
              "0        1  194840.000000\n",
              "1        2  179483.940294\n",
              "2        3  169432.727063\n",
              "3        4  156277.637591\n",
              "4        5  148081.433902\n",
              "5        6  138566.550092\n",
              "6        7  128621.568629\n",
              "7        8  120224.010974\n",
              "8        9  110541.161437\n",
              "9       10  100536.891074\n",
              "10      11   94955.766682\n",
              "11      12   87229.737718\n",
              "12      13   80289.921827\n",
              "13      14   74087.664450\n",
              "14      15   67357.825305\n",
              "15      16   65710.070399\n",
              "16      17   61576.085759\n",
              "17      18   59357.111149\n",
              "18      19   57276.776425\n",
              "19      20   55851.597543\n",
              "20      21   53647.513299\n",
              "21      22   51486.513167\n",
              "22      23   50088.784336\n",
              "23      24   49354.306872\n",
              "24      25   47702.759200\n",
              "25      26   47080.320630\n",
              "26      27   45711.758090\n",
              "27      28   44904.653271\n",
              "28      29   44121.257907\n",
              "29      30   43107.463342\n",
              "30      31   42097.946659\n",
              "31      32   41570.680252\n",
              "32      33   40099.265596\n",
              "33      34   39868.664683\n",
              "34      35   38708.532486\n",
              "35      36   37746.003279\n",
              "36      37   36563.817862\n",
              "37      38   37213.431225\n",
              "38      39   35957.007416\n",
              "39      40   35390.474744"
            ]
          },
          "metadata": {
            "tags": []
          },
          "execution_count": 80
        }
      ]
    },
    {
      "cell_type": "code",
      "metadata": {
        "id": "Y_vW43lzVImA",
        "colab_type": "code",
        "outputId": "b377dbc2-7dc5-40c2-ffbc-8edc779870cf",
        "colab": {
          "base_uri": "https://localhost:8080/",
          "height": 775
        }
      },
      "source": [
        "resultado.inertia.plot(xticks=resultado.grupos)"
      ],
      "execution_count": 0,
      "outputs": [
        {
          "output_type": "execute_result",
          "data": {
            "text/plain": [
              "<matplotlib.axes._subplots.AxesSubplot at 0x7f11b84a9a90>"
            ]
          },
          "metadata": {
            "tags": []
          },
          "execution_count": 81
        },
        {
          "output_type": "display_data",
          "data": {
            "image/png": "[encoded data removed]",
            "text/plain": [
              "<Figure size 936x936 with 1 Axes>"
            ]
          },
          "metadata": {
            "tags": []
          }
        }
      ]
    }
  ]
}