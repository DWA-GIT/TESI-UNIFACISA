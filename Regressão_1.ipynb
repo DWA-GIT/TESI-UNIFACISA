{
  "nbformat": 4,
  "nbformat_minor": 0,
  "metadata": {
    "colab": {
      "name": "Regressão_1.ipynb",
      "provenance": [],
      "collapsed_sections": [],
      "include_colab_link": true
    },
    "kernelspec": {
      "name": "python3",
      "display_name": "Python 3"
    }
  },
  "cells": [
    {
      "cell_type": "markdown",
      "metadata": {
        "id": "view-in-github",
        "colab_type": "text"
      },
      "source": [
        "<a href=\"https://colab.research.google.com/github/DWA-GIT/TESI-UNIFACISA/blob/master/Regress%C3%A3o_1.ipynb\" target=\"_parent\"><img src=\"https://colab.research.google.com/assets/colab-badge.svg\" alt=\"Open In Colab\"/></a>"
      ]
    },
    {
      "cell_type": "markdown",
      "metadata": {
        "id": "x5jE-u5y6eRd",
        "colab_type": "text"
      },
      "source": [
        "**Importação** "
      ]
    },
    {
      "cell_type": "code",
      "metadata": {
        "id": "zifcHEgP3vVB",
        "colab_type": "code",
        "colab": {}
      },
      "source": [
        "import pandas as pd\n",
        "import matplotlib.pyplot as plt\n",
        "from sklearn.model_selection import train_test_split\n",
        "from sklearn.linear_model import LinearRegression\n",
        "import numpy as np"
      ],
      "execution_count": 0,
      "outputs": []
    },
    {
      "cell_type": "markdown",
      "metadata": {
        "id": "1uyQ6_LX6mXr",
        "colab_type": "text"
      },
      "source": [
        "**Leitura dos dados**"
      ]
    },
    {
      "cell_type": "code",
      "metadata": {
        "id": "3UB7NONh6o1_",
        "colab_type": "code",
        "colab": {
          "base_uri": "https://localhost:8080/",
          "height": 202
        },
        "outputId": "c20c766c-bbf5-481b-a83a-f550a8ee66b0"
      },
      "source": [
        "uri = 'https://raw.githubusercontent.com/DWA-GIT/TESI-UNIFACISA/master/regressao_linear_alura.csv'\n",
        "movies = pd.read_csv(uri)\n",
        "movies.head()"
      ],
      "execution_count": 6,
      "outputs": [
        {
          "output_type": "execute_result",
          "data": {
            "text/html": [
              "<div>\n",
              "<style scoped>\n",
              "    .dataframe tbody tr th:only-of-type {\n",
              "        vertical-align: middle;\n",
              "    }\n",
              "\n",
              "    .dataframe tbody tr th {\n",
              "        vertical-align: top;\n",
              "    }\n",
              "\n",
              "    .dataframe thead th {\n",
              "        text-align: right;\n",
              "    }\n",
              "</style>\n",
              "<table border=\"1\" class=\"dataframe\">\n",
              "  <thead>\n",
              "    <tr style=\"text-align: right;\">\n",
              "      <th></th>\n",
              "      <th>movieId</th>\n",
              "      <th>Titulo</th>\n",
              "      <th>Investimento (em milhoes)</th>\n",
              "      <th>Bilheteria (pessoas)</th>\n",
              "    </tr>\n",
              "  </thead>\n",
              "  <tbody>\n",
              "    <tr>\n",
              "      <th>0</th>\n",
              "      <td>1</td>\n",
              "      <td>Toy Story (1995)</td>\n",
              "      <td>11.048216</td>\n",
              "      <td>5623234.602</td>\n",
              "    </tr>\n",
              "    <tr>\n",
              "      <th>1</th>\n",
              "      <td>2</td>\n",
              "      <td>Jumanji (1995)</td>\n",
              "      <td>14.927678</td>\n",
              "      <td>5714951.757</td>\n",
              "    </tr>\n",
              "    <tr>\n",
              "      <th>2</th>\n",
              "      <td>3</td>\n",
              "      <td>Grumpier Old Men (1995)</td>\n",
              "      <td>27.114597</td>\n",
              "      <td>9524339.124</td>\n",
              "    </tr>\n",
              "    <tr>\n",
              "      <th>3</th>\n",
              "      <td>4</td>\n",
              "      <td>Waiting to Exhale (1995)</td>\n",
              "      <td>4.994242</td>\n",
              "      <td>6331568.779</td>\n",
              "    </tr>\n",
              "    <tr>\n",
              "      <th>4</th>\n",
              "      <td>5</td>\n",
              "      <td>Father of the Bride Part II (1995)</td>\n",
              "      <td>19.142246</td>\n",
              "      <td>6409617.277</td>\n",
              "    </tr>\n",
              "  </tbody>\n",
              "</table>\n",
              "</div>"
            ],
            "text/plain": [
              "   movieId  ... Bilheteria (pessoas)\n",
              "0        1  ...          5623234.602\n",
              "1        2  ...          5714951.757\n",
              "2        3  ...          9524339.124\n",
              "3        4  ...          6331568.779\n",
              "4        5  ...          6409617.277\n",
              "\n",
              "[5 rows x 4 columns]"
            ]
          },
          "metadata": {
            "tags": []
          },
          "execution_count": 6
        }
      ]
    },
    {
      "cell_type": "markdown",
      "metadata": {
        "id": "XTbqMbCA7bOO",
        "colab_type": "text"
      },
      "source": [
        "**Forma do dataset**"
      ]
    },
    {
      "cell_type": "code",
      "metadata": {
        "id": "V1oXynbO7d-l",
        "colab_type": "code",
        "colab": {
          "base_uri": "https://localhost:8080/",
          "height": 35
        },
        "outputId": "a42eade2-ce0d-4d07-9c8f-ea8cff5e0592"
      },
      "source": [
        "movies.shape"
      ],
      "execution_count": 7,
      "outputs": [
        {
          "output_type": "execute_result",
          "data": {
            "text/plain": [
              "(9125, 4)"
            ]
          },
          "metadata": {
            "tags": []
          },
          "execution_count": 7
        }
      ]
    },
    {
      "cell_type": "markdown",
      "metadata": {
        "id": "-NQsbTh08Chb",
        "colab_type": "text"
      },
      "source": [
        "**Separar em Feature(X) e Label(Y)**"
      ]
    },
    {
      "cell_type": "code",
      "metadata": {
        "id": "bVU8twSY8H5A",
        "colab_type": "code",
        "colab": {}
      },
      "source": [
        "X = movies['Investimento (em milhoes)']\n",
        "Y = movies['Bilheteria (pessoas)']"
      ],
      "execution_count": 0,
      "outputs": []
    },
    {
      "cell_type": "markdown",
      "metadata": {
        "id": "4opWjuwl86kE",
        "colab_type": "text"
      },
      "source": [
        "**Ver graficamente**"
      ]
    },
    {
      "cell_type": "code",
      "metadata": {
        "id": "d5WLewuJ9euB",
        "colab_type": "code",
        "colab": {
          "base_uri": "https://localhost:8080/",
          "height": 293
        },
        "outputId": "d398acf1-dd6b-4e7d-df85-7e478ffcab87"
      },
      "source": [
        "plt.scatter(X, Y)"
      ],
      "execution_count": 10,
      "outputs": [
        {
          "output_type": "execute_result",
          "data": {
            "text/plain": [
              "<matplotlib.collections.PathCollection at 0x7f6160bf3080>"
            ]
          },
          "metadata": {
            "tags": []
          },
          "execution_count": 10
        },
        {
          "output_type": "display_data",
          "data": {
            "image/png": "[encoded data removed]",
            "text/plain": [
              "<Figure size 432x288 with 1 Axes>"
            ]
          },
          "metadata": {
            "tags": []
          }
        }
      ]
    },
    {
      "cell_type": "markdown",
      "metadata": {
        "id": "SMt2sQfW-G_8",
        "colab_type": "text"
      },
      "source": [
        "**Criar grafico por amostragem dos dados**"
      ]
    },
    {
      "cell_type": "code",
      "metadata": {
        "id": "z0139ToS-KvZ",
        "colab_type": "code",
        "colab": {
          "base_uri": "https://localhost:8080/",
          "height": 293
        },
        "outputId": "068ae087-3592-49f7-bf6c-527c57f191a1"
      },
      "source": [
        "sample = movies.sample(n=250)\n",
        "\n",
        "X = sample['Investimento (em milhoes)']\n",
        "Y = sample['Bilheteria (pessoas)']\n",
        "\n",
        "plt.scatter(X, Y)"
      ],
      "execution_count": 13,
      "outputs": [
        {
          "output_type": "execute_result",
          "data": {
            "text/plain": [
              "<matplotlib.collections.PathCollection at 0x7f615e312ac8>"
            ]
          },
          "metadata": {
            "tags": []
          },
          "execution_count": 13
        },
        {
          "output_type": "display_data",
          "data": {
            "image/png": "[encoded data removed]",
            "text/plain": [
              "<Figure size 432x288 with 1 Axes>"
            ]
          },
          "metadata": {
            "tags": []
          }
        }
      ]
    },
    {
      "cell_type": "markdown",
      "metadata": {
        "id": "BfWuPXOAAY_P",
        "colab_type": "text"
      },
      "source": [
        "**Modelo de regressão**"
      ]
    },
    {
      "cell_type": "code",
      "metadata": {
        "id": "qcp1S6MGAckx",
        "colab_type": "code",
        "colab": {
          "base_uri": "https://localhost:8080/",
          "height": 208
        },
        "outputId": "3ba763b2-0192-4a81-d682-6cbb1d25912b"
      },
      "source": [
        "filmes_investimento = movies['Investimento (em milhoes)']\n",
        "filmes_bilheteria = movies['Bilheteria (pessoas)']\n",
        "type(filmes_investimento)\n",
        "filmes_investimento.head(10)"
      ],
      "execution_count": 31,
      "outputs": [
        {
          "output_type": "execute_result",
          "data": {
            "text/plain": [
              "0    11.048216\n",
              "1    14.927678\n",
              "2    27.114597\n",
              "3     4.994242\n",
              "4    19.142246\n",
              "5     9.977311\n",
              "6    14.257461\n",
              "7     8.871800\n",
              "8    29.112800\n",
              "9     3.695241\n",
              "Name: Investimento (em milhoes), dtype: float64"
            ]
          },
          "metadata": {
            "tags": []
          },
          "execution_count": 31
        }
      ]
    },
    {
      "cell_type": "code",
      "metadata": {
        "id": "XZJeEapNA3_Q",
        "colab_type": "code",
        "colab": {
          "base_uri": "https://localhost:8080/",
          "height": 208
        },
        "outputId": "a63a6668-6919-445b-d0cb-60946a133947"
      },
      "source": [
        "type(filmes_bilheteria)\n",
        "filmes_bilheteria.head(10)"
      ],
      "execution_count": 30,
      "outputs": [
        {
          "output_type": "execute_result",
          "data": {
            "text/plain": [
              "0    5623234.602\n",
              "1    5714951.757\n",
              "2    9524339.124\n",
              "3    6331568.779\n",
              "4    6409617.277\n",
              "5    4956557.317\n",
              "6    4654565.066\n",
              "7    3950017.325\n",
              "8    6850971.551\n",
              "9    5157865.850\n",
              "Name: Bilheteria (pessoas), dtype: float64"
            ]
          },
          "metadata": {
            "tags": []
          },
          "execution_count": 30
        }
      ]
    },
    {
      "cell_type": "markdown",
      "metadata": {
        "id": "nok6XfjCBKZ4",
        "colab_type": "text"
      },
      "source": [
        "**Quebra de dados**"
      ]
    },
    {
      "cell_type": "code",
      "metadata": {
        "id": "QGFuy5nqBMxJ",
        "colab_type": "code",
        "colab": {
          "base_uri": "https://localhost:8080/",
          "height": 35
        },
        "outputId": "67c170de-1082-4914-b98e-7120ed6691e6"
      },
      "source": [
        "treino, teste, treino_bilheteria, teste_bilheteria = train_test_split(filmes_investimento, filmes_bilheteria)\n",
        "print('Tamanho treino: {0} ,Tamanho teste: {1}, Total:{2} ({0} + {1})'.format(len(treino), len(teste), len(filmes_investimento)))"
      ],
      "execution_count": 24,
      "outputs": [
        {
          "output_type": "stream",
          "text": [
            "Tamanho treino: 6843 ,Tamanho teste: 2282, Total:9125 (6843 + 2282)\n"
          ],
          "name": "stdout"
        }
      ]
    },
    {
      "cell_type": "markdown",
      "metadata": {
        "id": "ms4K6r_eC3K0",
        "colab_type": "text"
      },
      "source": [
        "**Forçando a conversão de dados**"
      ]
    },
    {
      "cell_type": "code",
      "metadata": {
        "id": "ok5UZvdeC6Jk",
        "colab_type": "code",
        "colab": {}
      },
      "source": [
        "treino = np.array(treino).reshape(len(treino),1)\n",
        "type(treino)\n",
        "treino.size"
      ],
      "execution_count": 0,
      "outputs": []
    },
    {
      "cell_type": "code",
      "metadata": {
        "id": "XX-rGQJfDwXt",
        "colab_type": "code",
        "colab": {}
      },
      "source": [
        "teste = np.array(teste).reshape(len(teste),1)\n",
        "type(teste)\n"
      ],
      "execution_count": 0,
      "outputs": []
    },
    {
      "cell_type": "code",
      "metadata": {
        "id": "FxzRnyGiEHpQ",
        "colab_type": "code",
        "colab": {}
      },
      "source": [
        "\n",
        "treino_bilheteria = np.array(treino_bilheteria).reshape(len(treino_bilheteria),1)\n",
        "teste_bilheteria = np.array(teste_bilheteria).reshape(len(teste_bilheteria),1)\n"
      ],
      "execution_count": 0,
      "outputs": []
    },
    {
      "cell_type": "markdown",
      "metadata": {
        "id": "MpWY5LrhEVUx",
        "colab_type": "text"
      },
      "source": [
        "**Finalmente o modelo**"
      ]
    },
    {
      "cell_type": "code",
      "metadata": {
        "id": "UUIX1KclETuL",
        "colab_type": "code",
        "colab": {}
      },
      "source": [
        "modelo = LinearRegression()\n",
        "modelo.fit(treino, treino_bilheteria)\n",
        "modelo"
      ],
      "execution_count": 0,
      "outputs": []
    },
    {
      "cell_type": "code",
      "metadata": {
        "id": "qRsyNzBPE7Ae",
        "colab_type": "code",
        "colab": {
          "base_uri": "https://localhost:8080/",
          "height": 35
        },
        "outputId": "e5439546-6b0d-4289-eaac-0657c1d85673"
      },
      "source": [
        "modelo.intercept_"
      ],
      "execution_count": 46,
      "outputs": [
        {
          "output_type": "execute_result",
          "data": {
            "text/plain": [
              "array([5045053.57289303])"
            ]
          },
          "metadata": {
            "tags": []
          },
          "execution_count": 46
        }
      ]
    },
    {
      "cell_type": "code",
      "metadata": {
        "id": "0HX1PyPDE__o",
        "colab_type": "code",
        "colab": {
          "base_uri": "https://localhost:8080/",
          "height": 35
        },
        "outputId": "6a6294dc-92f0-4992-d905-2e1a4df9ecb8"
      },
      "source": [
        "modelo.coef_"
      ],
      "execution_count": 48,
      "outputs": [
        {
          "output_type": "execute_result",
          "data": {
            "text/plain": [
              "array([[99131.4486177]])"
            ]
          },
          "metadata": {
            "tags": []
          },
          "execution_count": 48
        }
      ]
    },
    {
      "cell_type": "markdown",
      "metadata": {
        "id": "9D_CWbKJGd0H",
        "colab_type": "text"
      },
      "source": [
        "**Prevendo o valor de um filme**"
      ]
    },
    {
      "cell_type": "code",
      "metadata": {
        "id": "yw7sYfjXGgsT",
        "colab_type": "code",
        "colab": {
          "base_uri": "https://localhost:8080/",
          "height": 202
        },
        "outputId": "e2a76dfb-9260-418c-86d0-8b473caf21b7"
      },
      "source": [
        "movies.head()"
      ],
      "execution_count": 49,
      "outputs": [
        {
          "output_type": "execute_result",
          "data": {
            "text/html": [
              "<div>\n",
              "<style scoped>\n",
              "    .dataframe tbody tr th:only-of-type {\n",
              "        vertical-align: middle;\n",
              "    }\n",
              "\n",
              "    .dataframe tbody tr th {\n",
              "        vertical-align: top;\n",
              "    }\n",
              "\n",
              "    .dataframe thead th {\n",
              "        text-align: right;\n",
              "    }\n",
              "</style>\n",
              "<table border=\"1\" class=\"dataframe\">\n",
              "  <thead>\n",
              "    <tr style=\"text-align: right;\">\n",
              "      <th></th>\n",
              "      <th>movieId</th>\n",
              "      <th>Titulo</th>\n",
              "      <th>Investimento (em milhoes)</th>\n",
              "      <th>Bilheteria (pessoas)</th>\n",
              "    </tr>\n",
              "  </thead>\n",
              "  <tbody>\n",
              "    <tr>\n",
              "      <th>0</th>\n",
              "      <td>1</td>\n",
              "      <td>Toy Story (1995)</td>\n",
              "      <td>11.048216</td>\n",
              "      <td>5623234.602</td>\n",
              "    </tr>\n",
              "    <tr>\n",
              "      <th>1</th>\n",
              "      <td>2</td>\n",
              "      <td>Jumanji (1995)</td>\n",
              "      <td>14.927678</td>\n",
              "      <td>5714951.757</td>\n",
              "    </tr>\n",
              "    <tr>\n",
              "      <th>2</th>\n",
              "      <td>3</td>\n",
              "      <td>Grumpier Old Men (1995)</td>\n",
              "      <td>27.114597</td>\n",
              "      <td>9524339.124</td>\n",
              "    </tr>\n",
              "    <tr>\n",
              "      <th>3</th>\n",
              "      <td>4</td>\n",
              "      <td>Waiting to Exhale (1995)</td>\n",
              "      <td>4.994242</td>\n",
              "      <td>6331568.779</td>\n",
              "    </tr>\n",
              "    <tr>\n",
              "      <th>4</th>\n",
              "      <td>5</td>\n",
              "      <td>Father of the Bride Part II (1995)</td>\n",
              "      <td>19.142246</td>\n",
              "      <td>6409617.277</td>\n",
              "    </tr>\n",
              "  </tbody>\n",
              "</table>\n",
              "</div>"
            ],
            "text/plain": [
              "   movieId  ... Bilheteria (pessoas)\n",
              "0        1  ...          5623234.602\n",
              "1        2  ...          5714951.757\n",
              "2        3  ...          9524339.124\n",
              "3        4  ...          6331568.779\n",
              "4        5  ...          6409617.277\n",
              "\n",
              "[5 rows x 4 columns]"
            ]
          },
          "metadata": {
            "tags": []
          },
          "execution_count": 49
        }
      ]
    },
    {
      "cell_type": "code",
      "metadata": {
        "id": "61xmqEa8GzU9",
        "colab_type": "code",
        "colab": {
          "base_uri": "https://localhost:8080/",
          "height": 35
        },
        "outputId": "d47d052d-92b8-47fa-f605-1a807f6e3be3"
      },
      "source": [
        "previsao_jumanji = modelo.predict([[14.927678]])\n",
        "previsao_jumanji\n",
        "\n",
        "previsao_jumanji_nova_forma = (modelo.coef_ * 14.927678) + modelo.intercept_\n",
        "previsao_jumanji_nova_forma"
      ],
      "execution_count": 54,
      "outputs": [
        {
          "output_type": "execute_result",
          "data": {
            "text/plain": [
              "array([[6524855.91753163]])"
            ]
          },
          "metadata": {
            "tags": []
          },
          "execution_count": 54
        }
      ]
    }
  ]
}