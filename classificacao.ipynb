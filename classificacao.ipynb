{
  "nbformat": 4,
  "nbformat_minor": 0,
  "metadata": {
    "colab": {
      "name": "classificacao.ipynb",
      "version": "0.3.2",
      "provenance": [],
      "include_colab_link": true
    },
    "kernelspec": {
      "name": "python3",
      "display_name": "Python 3"
    }
  },
  "cells": [
    {
      "cell_type": "markdown",
      "metadata": {
        "id": "view-in-github",
        "colab_type": "text"
      },
      "source": [
        "<a href=\"https://colab.research.google.com/github/DWA-GIT/TESI-UNIFACISA/blob/master/classificacao.ipynb\" target=\"_parent\"><img src=\"https://colab.research.google.com/assets/colab-badge.svg\" alt=\"Open In Colab\"/></a>"
      ]
    },
    {
      "cell_type": "markdown",
      "metadata": {
        "id": "Mku_a6paktEB",
        "colab_type": "text"
      },
      "source": [
        "Meu primeiro algoritmo de ML - Classificador"
      ]
    },
    {
      "cell_type": "code",
      "metadata": {
        "id": "-bIso6Kpi5Uj",
        "colab_type": "code",
        "outputId": "96c675eb-1117-45a0-ed76-506ab1299326",
        "colab": {
          "base_uri": "https://localhost:8080/",
          "height": 87
        }
      },
      "source": [
        "#Features ou caracteristicas\n",
        "#Pelo longo? / perna curta? / Faz Au au?\n",
        "\n",
        "\n",
        "porco1 = [0, 1, 0]\n",
        "porco2 = [0, 1, 1]\n",
        "porco3 = [1, 1, 0]\n",
        "\n",
        "\n",
        "cachorro1 = [1, 1, 1]\n",
        "cachorro2 = [1, 0, 1]\n",
        "cachorro3 = [0, 1, 1]\n",
        "\n",
        "treino_X = [porco1, porco2, porco3, cachorro1, cachorro2, cachorro3]\n",
        "treino_Y = [1,1,1,0,0,0]\n",
        "\n",
        "\n",
        "from sklearn.svm import LinearSVC\n",
        "\n",
        "modelo_classificacao = LinearSVC()\n",
        "\n",
        "modelo_classificacao.fit(treino_X, treino_Y)"
      ],
      "execution_count": 0,
      "outputs": [
        {
          "output_type": "execute_result",
          "data": {
            "text/plain": [
              "LinearSVC(C=1.0, class_weight=None, dual=True, fit_intercept=True,\n",
              "          intercept_scaling=1, loss='squared_hinge', max_iter=1000,\n",
              "          multi_class='ovr', penalty='l2', random_state=None, tol=0.0001,\n",
              "          verbose=0)"
            ]
          },
          "metadata": {
            "tags": []
          },
          "execution_count": 17
        }
      ]
    },
    {
      "cell_type": "code",
      "metadata": {
        "id": "s9P5BXG6nxHa",
        "colab_type": "code",
        "outputId": "dd79f166-7b5e-41f8-c0d7-4b4e8feaf995",
        "colab": {
          "base_uri": "https://localhost:8080/",
          "height": 35
        }
      },
      "source": [
        "#Features ou caracteristicas\n",
        "#Pelo longo? / perna curta? / Faz Au au?\n",
        "\n",
        "misterioso = [0, 1, 1]\n",
        "\n",
        "modelo_classificacao.predict([misterioso])\n",
        "\n",
        "#cachorro? Porco?"
      ],
      "execution_count": 0,
      "outputs": [
        {
          "output_type": "execute_result",
          "data": {
            "text/plain": [
              "array([0])"
            ]
          },
          "metadata": {
            "tags": []
          },
          "execution_count": 4
        }
      ]
    },
    {
      "cell_type": "code",
      "metadata": {
        "id": "M9oLVQOprqNq",
        "colab_type": "code",
        "outputId": "3f526fdc-a09b-4f53-c566-f505a1618e1a",
        "colab": {
          "base_uri": "https://localhost:8080/",
          "height": 35
        }
      },
      "source": [
        "#Features ou caracteristicas\n",
        "#Pelo longo? / perna curta? / Faz Au au?\n",
        "\n",
        "misterioso1 = [1, 1, 1]\n",
        "misterioso2 = [1, 1, 0]\n",
        "misterioso3 = [0, 1, 1]\n",
        "\n",
        "teste_X = [misterioso1, misterioso2, misterioso3]\n",
        "teste_Y = [0, 1, 0]\n",
        "\n",
        "previsoes = modelo_classificacao.predict(teste_X)\n",
        "\n",
        "\n",
        "\n",
        "corretos = (previsoes == teste_Y).sum()\n",
        "taxa_de_precisao = corretos / len(teste_Y) \n",
        "print (\"taxa de precisao: \", taxa_de_precisao * 100)"
      ],
      "execution_count": 0,
      "outputs": [
        {
          "output_type": "stream",
          "text": [
            "taxa de precisao:  100.0\n"
          ],
          "name": "stdout"
        }
      ]
    },
    {
      "cell_type": "code",
      "metadata": {
        "id": "9Hn6deqsuWWA",
        "colab_type": "code",
        "outputId": "29f60677-c36c-43c7-f2cb-0df62f7f71de",
        "colab": {
          "base_uri": "https://localhost:8080/",
          "height": 35
        }
      },
      "source": [
        "from sklearn.metrics import accuracy_score\n",
        "\n",
        "taxa_àcerto = accuracy_score(teste_Y, previsoes)\n",
        "print (\"taxa de precisao: \", taxa_àcerto * 100)"
      ],
      "execution_count": 0,
      "outputs": [
        {
          "output_type": "stream",
          "text": [
            "taxa de precisao:  100.0\n"
          ],
          "name": "stdout"
        }
      ]
    }
  ]
}